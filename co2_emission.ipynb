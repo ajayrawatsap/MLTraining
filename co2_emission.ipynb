{
 "cells": [
  {
   "cell_type": "code",
   "execution_count": 53,
   "metadata": {},
   "outputs": [],
   "source": [
    "import pandas as pd\n",
    "import numpy as np\n",
    "\n",
    "import seaborn as sns\n",
    "sns.set_theme(style=\"darkgrid\")\n",
    "\n",
    "import matplotlib.pyplot as plt\n",
    "\n",
    "\n",
    "SMALL_SIZE  = 12\n",
    "MEDIUM_SIZE = 14\n",
    "BIGGER_SIZE = 16\n",
    "\n",
    "plt.rc('font', size=SMALL_SIZE)          # controls default text sizes\n",
    "plt.rc('axes', titlesize=MEDIUM_SIZE)     # fontsize of the axes title\n",
    "plt.rc('axes', labelsize=MEDIUM_SIZE)    # fontsize of the x and y labels\n",
    "plt.rc('xtick', labelsize=SMALL_SIZE)    # fontsize of the tick labels\n",
    "plt.rc('ytick', labelsize=SMALL_SIZE)    # fontsize of the tick labels\n",
    "plt.rc('legend', fontsize=SMALL_SIZE)    # legend fontsize\n",
    "plt.rc('figure', titlesize=BIGGER_SIZE)  # fontsize of the figure title"
   ]
  },
  {
   "cell_type": "code",
   "execution_count": 54,
   "metadata": {},
   "outputs": [],
   "source": [
    "SERIES_TOTAL = 'Emissions (thousand metric tons of carbon dioxide)'\n",
    "SERIES_PER_CAPITA = 'Emissions per capita (metric tons of carbon dioxide)'\n",
    "FIG_SIZE_2 = (20, 6)\n"
   ]
  },
  {
   "cell_type": "code",
   "execution_count": 55,
   "metadata": {},
   "outputs": [],
   "source": [
    "def column_properties(df):\n",
    "    columns_prop = pd.DataFrame()\n",
    "    columns_prop['column'] = df.columns.tolist()\n",
    "    columns_prop['count_non_null'] = df.count().values\n",
    "    columns_prop['count_null'] = df.isnull().sum().values\n",
    "    columns_prop['perc_null'] = columns_prop['count_null'] * 100 / df.shape[0]\n",
    "\n",
    "    #using df.nunique() is memory intensive and slow resulting in kernal death\n",
    "    unique_list = []\n",
    "    for col in df.columns.tolist():\n",
    "        unique_list.append(df[col].value_counts().shape[0])\n",
    "    columns_prop['count_unique'] =  unique_list\n",
    "    \n",
    "    columns_prop['dtype'] = df.dtypes.values\n",
    "    columns_prop.set_index('column', inplace = True)\n",
    "    return columns_prop"
   ]
  },
  {
   "cell_type": "markdown",
   "metadata": {},
   "source": [
    "## Read Emission Data"
   ]
  },
  {
   "cell_type": "code",
   "execution_count": 56,
   "metadata": {},
   "outputs": [
    {
     "data": {
      "text/plain": [
       "(2180, 5)"
      ]
     },
     "execution_count": 56,
     "metadata": {},
     "output_type": "execute_result"
    }
   ],
   "source": [
    "\n",
    "file_name_emission = 'CO2_emission_estimates.csv'\n",
    "# emission_data = pd.read_csv(file_name_emission)\n",
    "emission_data = pd.read_csv(file_name_emission, encoding = 'unicode_escape', engine ='python')\n",
    "\n",
    "emission_data.shape"
   ]
  },
  {
   "cell_type": "code",
   "execution_count": 57,
   "metadata": {},
   "outputs": [],
   "source": [
    "file_name_econ_dev = 'economic_devlopment.csv'\n",
    "# econ_dev_data = pd.read_csv(file_name_econ_dev)\n",
    "econ_dev_data = pd.read_csv(file_name_econ_dev,encoding = 'unicode_escape', engine ='python')\n",
    "columns = ['Economy', 'Country'\t]\n",
    "econ_dev_data = econ_dev_data[columns]\n",
    "\n"
   ]
  },
  {
   "cell_type": "markdown",
   "metadata": {},
   "source": [
    "#### Merge the country develpment satus with main data"
   ]
  },
  {
   "cell_type": "code",
   "execution_count": 58,
   "metadata": {},
   "outputs": [
    {
     "data": {
      "text/html": [
       "<div>\n",
       "<style scoped>\n",
       "    .dataframe tbody tr th:only-of-type {\n",
       "        vertical-align: middle;\n",
       "    }\n",
       "\n",
       "    .dataframe tbody tr th {\n",
       "        vertical-align: top;\n",
       "    }\n",
       "\n",
       "    .dataframe thead th {\n",
       "        text-align: right;\n",
       "    }\n",
       "</style>\n",
       "<table border=\"1\" class=\"dataframe\">\n",
       "  <thead>\n",
       "    <tr style=\"text-align: right;\">\n",
       "      <th></th>\n",
       "      <th>Region</th>\n",
       "      <th>Country</th>\n",
       "      <th>Year</th>\n",
       "      <th>Series</th>\n",
       "      <th>Value</th>\n",
       "      <th>Economy</th>\n",
       "    </tr>\n",
       "  </thead>\n",
       "  <tbody>\n",
       "    <tr>\n",
       "      <th>0</th>\n",
       "      <td>8</td>\n",
       "      <td>Albania</td>\n",
       "      <td>1975</td>\n",
       "      <td>Emissions (thousand metric tons of carbon diox...</td>\n",
       "      <td>4338.0</td>\n",
       "      <td>Developing</td>\n",
       "    </tr>\n",
       "    <tr>\n",
       "      <th>1</th>\n",
       "      <td>8</td>\n",
       "      <td>Albania</td>\n",
       "      <td>1985</td>\n",
       "      <td>Emissions (thousand metric tons of carbon diox...</td>\n",
       "      <td>6930.0</td>\n",
       "      <td>Developing</td>\n",
       "    </tr>\n",
       "    <tr>\n",
       "      <th>2</th>\n",
       "      <td>8</td>\n",
       "      <td>Albania</td>\n",
       "      <td>2005</td>\n",
       "      <td>Emissions (thousand metric tons of carbon diox...</td>\n",
       "      <td>3825.0</td>\n",
       "      <td>Developing</td>\n",
       "    </tr>\n",
       "    <tr>\n",
       "      <th>3</th>\n",
       "      <td>8</td>\n",
       "      <td>Albania</td>\n",
       "      <td>2010</td>\n",
       "      <td>Emissions (thousand metric tons of carbon diox...</td>\n",
       "      <td>3930.0</td>\n",
       "      <td>Developing</td>\n",
       "    </tr>\n",
       "    <tr>\n",
       "      <th>4</th>\n",
       "      <td>8</td>\n",
       "      <td>Albania</td>\n",
       "      <td>2015</td>\n",
       "      <td>Emissions (thousand metric tons of carbon diox...</td>\n",
       "      <td>3825.0</td>\n",
       "      <td>Developing</td>\n",
       "    </tr>\n",
       "  </tbody>\n",
       "</table>\n",
       "</div>"
      ],
      "text/plain": [
       "   Region  Country  Year                                             Series  \\\n",
       "0       8  Albania  1975  Emissions (thousand metric tons of carbon diox...   \n",
       "1       8  Albania  1985  Emissions (thousand metric tons of carbon diox...   \n",
       "2       8  Albania  2005  Emissions (thousand metric tons of carbon diox...   \n",
       "3       8  Albania  2010  Emissions (thousand metric tons of carbon diox...   \n",
       "4       8  Albania  2015  Emissions (thousand metric tons of carbon diox...   \n",
       "\n",
       "    Value     Economy  \n",
       "0  4338.0  Developing  \n",
       "1  6930.0  Developing  \n",
       "2  3825.0  Developing  \n",
       "3  3930.0  Developing  \n",
       "4  3825.0  Developing  "
      ]
     },
     "execution_count": 58,
     "metadata": {},
     "output_type": "execute_result"
    }
   ],
   "source": [
    "data = pd.merge( emission_data, econ_dev_data, on = 'Country', how = 'left')\n",
    "data.head()"
   ]
  },
  {
   "cell_type": "code",
   "execution_count": 59,
   "metadata": {},
   "outputs": [
    {
     "data": {
      "text/html": [
       "<div>\n",
       "<style scoped>\n",
       "    .dataframe tbody tr th:only-of-type {\n",
       "        vertical-align: middle;\n",
       "    }\n",
       "\n",
       "    .dataframe tbody tr th {\n",
       "        vertical-align: top;\n",
       "    }\n",
       "\n",
       "    .dataframe thead th {\n",
       "        text-align: right;\n",
       "    }\n",
       "</style>\n",
       "<table border=\"1\" class=\"dataframe\">\n",
       "  <thead>\n",
       "    <tr style=\"text-align: right;\">\n",
       "      <th></th>\n",
       "      <th>count_non_null</th>\n",
       "      <th>count_null</th>\n",
       "      <th>perc_null</th>\n",
       "      <th>count_unique</th>\n",
       "      <th>dtype</th>\n",
       "    </tr>\n",
       "    <tr>\n",
       "      <th>column</th>\n",
       "      <th></th>\n",
       "      <th></th>\n",
       "      <th></th>\n",
       "      <th></th>\n",
       "      <th></th>\n",
       "    </tr>\n",
       "  </thead>\n",
       "  <tbody>\n",
       "    <tr>\n",
       "      <th>Region</th>\n",
       "      <td>2180</td>\n",
       "      <td>0</td>\n",
       "      <td>0.000000</td>\n",
       "      <td>144</td>\n",
       "      <td>int64</td>\n",
       "    </tr>\n",
       "    <tr>\n",
       "      <th>Country</th>\n",
       "      <td>2180</td>\n",
       "      <td>0</td>\n",
       "      <td>0.000000</td>\n",
       "      <td>144</td>\n",
       "      <td>object</td>\n",
       "    </tr>\n",
       "    <tr>\n",
       "      <th>Year</th>\n",
       "      <td>2180</td>\n",
       "      <td>0</td>\n",
       "      <td>0.000000</td>\n",
       "      <td>8</td>\n",
       "      <td>int64</td>\n",
       "    </tr>\n",
       "    <tr>\n",
       "      <th>Series</th>\n",
       "      <td>2180</td>\n",
       "      <td>0</td>\n",
       "      <td>0.000000</td>\n",
       "      <td>2</td>\n",
       "      <td>object</td>\n",
       "    </tr>\n",
       "    <tr>\n",
       "      <th>Value</th>\n",
       "      <td>2180</td>\n",
       "      <td>0</td>\n",
       "      <td>0.000000</td>\n",
       "      <td>1267</td>\n",
       "      <td>float64</td>\n",
       "    </tr>\n",
       "    <tr>\n",
       "      <th>Economy</th>\n",
       "      <td>2164</td>\n",
       "      <td>16</td>\n",
       "      <td>0.733945</td>\n",
       "      <td>2</td>\n",
       "      <td>object</td>\n",
       "    </tr>\n",
       "  </tbody>\n",
       "</table>\n",
       "</div>"
      ],
      "text/plain": [
       "         count_non_null  count_null  perc_null  count_unique    dtype\n",
       "column                                                               \n",
       "Region             2180           0   0.000000           144    int64\n",
       "Country            2180           0   0.000000           144   object\n",
       "Year               2180           0   0.000000             8    int64\n",
       "Series             2180           0   0.000000             2   object\n",
       "Value              2180           0   0.000000          1267  float64\n",
       "Economy            2164          16   0.733945             2   object"
      ]
     },
     "execution_count": 59,
     "metadata": {},
     "output_type": "execute_result"
    }
   ],
   "source": [
    "column_properties(data)"
   ]
  },
  {
   "cell_type": "code",
   "execution_count": 60,
   "metadata": {},
   "outputs": [],
   "source": [
    "def get_agg_data_by_year(data):\n",
    "    agg = { 'Total_Emission': pd.NamedAgg(column= 'Value', aggfunc = 'sum'),\n",
    "            'Avg_Emission':   pd.NamedAgg(column= 'Value', aggfunc = np.mean) }\n",
    "\n",
    "    emission_agg_by_year =  data.groupby(['Year', 'Series']).agg(**agg).reset_index() \n",
    "    emission_agg_by_year['Year'] = emission_agg_by_year['Year'].apply(str)\n",
    "    return emission_agg_by_year\n"
   ]
  },
  {
   "cell_type": "code",
   "execution_count": 61,
   "metadata": {},
   "outputs": [],
   "source": [
    "\n",
    "\n",
    "def plot_total_emiision_by_year(emission_agg_by_year):\n",
    "    emission_total     = emission_agg_by_year[emission_agg_by_year.Series== SERIES_TOTAL].copy()\n",
    "    # Convert to Milllion MT. The orignal valaue is thousand of MT\n",
    "    emission_total['Total_Emission'] = (emission_total['Total_Emission'] * 1000) / 1000000\n",
    "\n",
    "\n",
    "    emission_percapita = emission_agg_by_year[emission_agg_by_year.Series== SERIES_PER_CAPITA]\n",
    "\n",
    "\n",
    "\n",
    "    fig, (ax1, ax2)  =  plt.subplots(ncols = 2, figsize = FIG_SIZE_2)\n",
    "    s = sns.barplot(ax = ax1, x = 'Year'\t, y = \"Total_Emission\", data = emission_total)\n",
    "    s.set_title('Total Emissions By Year')\n",
    "    s.set(ylabel = 'Total Emission (Millions MT of CO2 )')\n",
    "\n",
    "    s = sns.barplot(ax = ax2, x = 'Year'\t, y = \"Total_Emission\", data = emission_percapita)\n",
    "    s.set_title('Total Emissions Per Capita By Year')\n",
    "    s.set(ylabel = 'Total Emission Per Capita (MT of CO2 )')\n",
    "    plt.show()\n",
    "\n"
   ]
  },
  {
   "cell_type": "markdown",
   "metadata": {},
   "source": [
    "### Plot Total Emission By Year for all Countries\n",
    "\n",
    "<br> The Total emissions for all countries show increasing trend from year 1985 to 2005.  The Total emission can be seen stablizing after 2005\n",
    "<br> The per capita emissions on the other hand shows decreasing trend after 2005 which is a good sign.\n"
   ]
  },
  {
   "cell_type": "code",
   "execution_count": 62,
   "metadata": {},
   "outputs": [
    {
     "data": {
      "image/png": "[encoded data removed]",
      "text/plain": [
       "<Figure size 1440x432 with 2 Axes>"
      ]
     },
     "metadata": {},
     "output_type": "display_data"
    }
   ],
   "source": [
    "emission_agg_by_year =   get_agg_data_by_year(data)\n",
    "plot_total_emiision_by_year(emission_agg_by_year)"
   ]
  },
  {
   "cell_type": "markdown",
   "metadata": {},
   "source": []
  },
  {
   "cell_type": "code",
   "execution_count": 63,
   "metadata": {},
   "outputs": [],
   "source": [
    "\n",
    "def plot_average_emission_by_year(emission_agg_by_year):\n",
    "    emission_total     = emission_agg_by_year[emission_agg_by_year.Series== SERIES_TOTAL].copy()\n",
    "    # Convert to Milllion MT. The orignal valaue is thousand of MT\n",
    "    emission_total['Avg_Emission'] = (emission_total['Avg_Emission'] * 1000) / 1000000\n",
    "\n",
    "    emission_percapita = emission_agg_by_year[emission_agg_by_year.Series== SERIES_PER_CAPITA]\n",
    "\n",
    "    fig, (ax1, ax2)  =  plt.subplots(ncols = 2, figsize = FIG_SIZE_2)\n",
    "    s = sns.barplot(ax = ax1, x = 'Year'\t, y = \"Avg_Emission\", data = emission_total)\n",
    "    s.set_title('Average Emissions By Year')\n",
    "    s.set(ylabel = 'Average Emission (Million MT of CO2 )')\n",
    "\n",
    "    s = sns.barplot(ax = ax2, x = 'Year'\t, y = \"Avg_Emission\", data = emission_percapita)\n",
    "    s.set_title('Average Emissions Per Capita By Year')\n",
    "    s.set(ylabel = 'Average Emission Per Capita (MT of CO2 )')\n",
    "    plt.show()"
   ]
  },
  {
   "cell_type": "markdown",
   "metadata": {},
   "source": [
    "### Plot Average Emission By Year per country\n",
    "<br>The avergae emission per country has also stablized after 2005 with value around 200 Million MT of CO2.\n",
    "<br> Similarly per capita emission per country on avergae is stablized around 5MT for recent years\n",
    "\n"
   ]
  },
  {
   "cell_type": "code",
   "execution_count": 64,
   "metadata": {},
   "outputs": [
    {
     "data": {
      "image/png": "[encoded data removed]",
      "text/plain": [
       "<Figure size 1440x432 with 2 Axes>"
      ]
     },
     "metadata": {},
     "output_type": "display_data"
    }
   ],
   "source": [
    "plot_average_emission_by_year(emission_agg_by_year)"
   ]
  },
  {
   "cell_type": "markdown",
   "metadata": {},
   "source": [
    "## Plot Emission By Economic Development"
   ]
  },
  {
   "cell_type": "code",
   "execution_count": 65,
   "metadata": {},
   "outputs": [
    {
     "data": {
      "text/html": [
       "<div>\n",
       "<style scoped>\n",
       "    .dataframe tbody tr th:only-of-type {\n",
       "        vertical-align: middle;\n",
       "    }\n",
       "\n",
       "    .dataframe tbody tr th {\n",
       "        vertical-align: top;\n",
       "    }\n",
       "\n",
       "    .dataframe thead th {\n",
       "        text-align: right;\n",
       "    }\n",
       "</style>\n",
       "<table border=\"1\" class=\"dataframe\">\n",
       "  <thead>\n",
       "    <tr style=\"text-align: right;\">\n",
       "      <th></th>\n",
       "      <th>Economy</th>\n",
       "      <th>Series</th>\n",
       "      <th>Total_Emission</th>\n",
       "      <th>Avg_Emission</th>\n",
       "    </tr>\n",
       "  </thead>\n",
       "  <tbody>\n",
       "    <tr>\n",
       "      <th>0</th>\n",
       "      <td>Developed</td>\n",
       "      <td>Emissions (thousand metric tons of carbon diox...</td>\n",
       "      <td>96555782.0</td>\n",
       "      <td>266728.679558</td>\n",
       "    </tr>\n",
       "    <tr>\n",
       "      <th>1</th>\n",
       "      <td>Developed</td>\n",
       "      <td>Emissions per capita (metric tons of carbon di...</td>\n",
       "      <td>3098.4</td>\n",
       "      <td>8.559116</td>\n",
       "    </tr>\n",
       "    <tr>\n",
       "      <th>2</th>\n",
       "      <td>Developing</td>\n",
       "      <td>Emissions (thousand metric tons of carbon diox...</td>\n",
       "      <td>109852625.0</td>\n",
       "      <td>152573.090278</td>\n",
       "    </tr>\n",
       "    <tr>\n",
       "      <th>3</th>\n",
       "      <td>Developing</td>\n",
       "      <td>Emissions per capita (metric tons of carbon di...</td>\n",
       "      <td>2431.0</td>\n",
       "      <td>3.376389</td>\n",
       "    </tr>\n",
       "  </tbody>\n",
       "</table>\n",
       "</div>"
      ],
      "text/plain": [
       "      Economy                                             Series  \\\n",
       "0   Developed  Emissions (thousand metric tons of carbon diox...   \n",
       "1   Developed  Emissions per capita (metric tons of carbon di...   \n",
       "2  Developing  Emissions (thousand metric tons of carbon diox...   \n",
       "3  Developing  Emissions per capita (metric tons of carbon di...   \n",
       "\n",
       "   Total_Emission   Avg_Emission  \n",
       "0      96555782.0  266728.679558  \n",
       "1          3098.4       8.559116  \n",
       "2     109852625.0  152573.090278  \n",
       "3          2431.0       3.376389  "
      ]
     },
     "execution_count": 65,
     "metadata": {},
     "output_type": "execute_result"
    }
   ],
   "source": [
    "agg = { 'Total_Emission': pd.NamedAgg(column= 'Value', aggfunc = 'sum'),\n",
    "         'Avg_Emission':  pd.NamedAgg(column= 'Value', aggfunc = np.mean) }\n",
    "\n",
    "emission_agg_by_econ =  data.groupby(['Economy', 'Series']).agg(**agg).reset_index() \n",
    "# emission_agg_by_econ['Year'] = emission_agg_by_year['Year'].apply(str)\n",
    "emission_agg_by_econ"
   ]
  },
  {
   "cell_type": "code",
   "execution_count": 66,
   "metadata": {},
   "outputs": [
    {
     "data": {
      "text/html": [
       "<div>\n",
       "<style scoped>\n",
       "    .dataframe tbody tr th:only-of-type {\n",
       "        vertical-align: middle;\n",
       "    }\n",
       "\n",
       "    .dataframe tbody tr th {\n",
       "        vertical-align: top;\n",
       "    }\n",
       "\n",
       "    .dataframe thead th {\n",
       "        text-align: right;\n",
       "    }\n",
       "</style>\n",
       "<table border=\"1\" class=\"dataframe\">\n",
       "  <thead>\n",
       "    <tr style=\"text-align: right;\">\n",
       "      <th></th>\n",
       "      <th>Region</th>\n",
       "      <th>Country</th>\n",
       "      <th>Year</th>\n",
       "      <th>Series</th>\n",
       "      <th>Value</th>\n",
       "      <th>Economy</th>\n",
       "    </tr>\n",
       "  </thead>\n",
       "  <tbody>\n",
       "    <tr>\n",
       "      <th>0</th>\n",
       "      <td>8</td>\n",
       "      <td>Albania</td>\n",
       "      <td>1975</td>\n",
       "      <td>Emissions (thousand metric tons of carbon diox...</td>\n",
       "      <td>4338.0</td>\n",
       "      <td>Developing</td>\n",
       "    </tr>\n",
       "    <tr>\n",
       "      <th>1</th>\n",
       "      <td>8</td>\n",
       "      <td>Albania</td>\n",
       "      <td>1985</td>\n",
       "      <td>Emissions (thousand metric tons of carbon diox...</td>\n",
       "      <td>6930.0</td>\n",
       "      <td>Developing</td>\n",
       "    </tr>\n",
       "    <tr>\n",
       "      <th>2</th>\n",
       "      <td>8</td>\n",
       "      <td>Albania</td>\n",
       "      <td>2005</td>\n",
       "      <td>Emissions (thousand metric tons of carbon diox...</td>\n",
       "      <td>3825.0</td>\n",
       "      <td>Developing</td>\n",
       "    </tr>\n",
       "    <tr>\n",
       "      <th>3</th>\n",
       "      <td>8</td>\n",
       "      <td>Albania</td>\n",
       "      <td>2010</td>\n",
       "      <td>Emissions (thousand metric tons of carbon diox...</td>\n",
       "      <td>3930.0</td>\n",
       "      <td>Developing</td>\n",
       "    </tr>\n",
       "    <tr>\n",
       "      <th>4</th>\n",
       "      <td>8</td>\n",
       "      <td>Albania</td>\n",
       "      <td>2015</td>\n",
       "      <td>Emissions (thousand metric tons of carbon diox...</td>\n",
       "      <td>3825.0</td>\n",
       "      <td>Developing</td>\n",
       "    </tr>\n",
       "    <tr>\n",
       "      <th>...</th>\n",
       "      <td>...</td>\n",
       "      <td>...</td>\n",
       "      <td>...</td>\n",
       "      <td>...</td>\n",
       "      <td>...</td>\n",
       "      <td>...</td>\n",
       "    </tr>\n",
       "    <tr>\n",
       "      <th>2175</th>\n",
       "      <td>716</td>\n",
       "      <td>Zimbabwe</td>\n",
       "      <td>2010</td>\n",
       "      <td>Emissions per capita (metric tons of carbon di...</td>\n",
       "      <td>0.7</td>\n",
       "      <td>Developing</td>\n",
       "    </tr>\n",
       "    <tr>\n",
       "      <th>2176</th>\n",
       "      <td>716</td>\n",
       "      <td>Zimbabwe</td>\n",
       "      <td>2015</td>\n",
       "      <td>Emissions per capita (metric tons of carbon di...</td>\n",
       "      <td>0.9</td>\n",
       "      <td>Developing</td>\n",
       "    </tr>\n",
       "    <tr>\n",
       "      <th>2177</th>\n",
       "      <td>716</td>\n",
       "      <td>Zimbabwe</td>\n",
       "      <td>2016</td>\n",
       "      <td>Emissions per capita (metric tons of carbon di...</td>\n",
       "      <td>0.7</td>\n",
       "      <td>Developing</td>\n",
       "    </tr>\n",
       "    <tr>\n",
       "      <th>2178</th>\n",
       "      <td>716</td>\n",
       "      <td>Zimbabwe</td>\n",
       "      <td>2017</td>\n",
       "      <td>Emissions per capita (metric tons of carbon di...</td>\n",
       "      <td>0.7</td>\n",
       "      <td>Developing</td>\n",
       "    </tr>\n",
       "    <tr>\n",
       "      <th>2179</th>\n",
       "      <td>716</td>\n",
       "      <td>Zimbabwe</td>\n",
       "      <td>2018</td>\n",
       "      <td>Emissions per capita (metric tons of carbon di...</td>\n",
       "      <td>0.8</td>\n",
       "      <td>Developing</td>\n",
       "    </tr>\n",
       "  </tbody>\n",
       "</table>\n",
       "<p>2180 rows × 6 columns</p>\n",
       "</div>"
      ],
      "text/plain": [
       "      Region   Country  Year  \\\n",
       "0          8   Albania  1975   \n",
       "1          8   Albania  1985   \n",
       "2          8   Albania  2005   \n",
       "3          8   Albania  2010   \n",
       "4          8   Albania  2015   \n",
       "...      ...       ...   ...   \n",
       "2175     716  Zimbabwe  2010   \n",
       "2176     716  Zimbabwe  2015   \n",
       "2177     716  Zimbabwe  2016   \n",
       "2178     716  Zimbabwe  2017   \n",
       "2179     716  Zimbabwe  2018   \n",
       "\n",
       "                                                 Series   Value     Economy  \n",
       "0     Emissions (thousand metric tons of carbon diox...  4338.0  Developing  \n",
       "1     Emissions (thousand metric tons of carbon diox...  6930.0  Developing  \n",
       "2     Emissions (thousand metric tons of carbon diox...  3825.0  Developing  \n",
       "3     Emissions (thousand metric tons of carbon diox...  3930.0  Developing  \n",
       "4     Emissions (thousand metric tons of carbon diox...  3825.0  Developing  \n",
       "...                                                 ...     ...         ...  \n",
       "2175  Emissions per capita (metric tons of carbon di...     0.7  Developing  \n",
       "2176  Emissions per capita (metric tons of carbon di...     0.9  Developing  \n",
       "2177  Emissions per capita (metric tons of carbon di...     0.7  Developing  \n",
       "2178  Emissions per capita (metric tons of carbon di...     0.7  Developing  \n",
       "2179  Emissions per capita (metric tons of carbon di...     0.8  Developing  \n",
       "\n",
       "[2180 rows x 6 columns]"
      ]
     },
     "execution_count": 66,
     "metadata": {},
     "output_type": "execute_result"
    }
   ],
   "source": [
    "data"
   ]
  },
  {
   "cell_type": "code",
   "execution_count": null,
   "metadata": {},
   "outputs": [],
   "source": []
  }
 ],
 "metadata": {
  "interpreter": {
   "hash": "c6a31ab494772990e722f0ee678dbdb4bbfa8a2fdc6e9d4388ef21184d1c4390"
  },
  "kernelspec": {
   "display_name": "Python 3",
   "language": "python",
   "name": "python3"
  },
  "language_info": {
   "codemirror_mode": {
    "name": "ipython",
    "version": 3
   },
   "file_extension": ".py",
   "mimetype": "text/x-python",
   "name": "python",
   "nbconvert_exporter": "python",
   "pygments_lexer": "ipython3",
   "version": "3.9.5"
  }
 },
 "nbformat": 4,
 "nbformat_minor": 2
}
