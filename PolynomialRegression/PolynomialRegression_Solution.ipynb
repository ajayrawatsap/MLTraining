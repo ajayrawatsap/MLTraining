{
 "cells": [
  {
   "cell_type": "markdown",
   "metadata": {},
   "source": [
    "This data set of size n = 15 contains measurements of yield from an experiment done at five different temperature levels. The variables are y = yield and x = temperature in degrees Fahrenheit. The table below gives the data used for this analysis.\n",
    "\n",
    "https://onlinecourses.science.psu.edu/stat501/node/325/"
   ]
  },
  {
   "cell_type": "code",
   "execution_count": 1,
   "metadata": {
    "collapsed": true
   },
   "outputs": [],
   "source": [
    "import pandas as pd\n",
    "import matplotlib.pyplot as plt\n",
    "import seaborn as sns\n",
    "import numpy as np\n",
    "random_state = 42"
   ]
  },
  {
   "cell_type": "markdown",
   "metadata": {},
   "source": [
    "## Load Data"
   ]
  },
  {
   "cell_type": "code",
   "execution_count": 2,
   "metadata": {},
   "outputs": [
    {
     "data": {
      "text/html": [
       "<div>\n",
       "<style scoped>\n",
       "    .dataframe tbody tr th:only-of-type {\n",
       "        vertical-align: middle;\n",
       "    }\n",
       "\n",
       "    .dataframe tbody tr th {\n",
       "        vertical-align: top;\n",
       "    }\n",
       "\n",
       "    .dataframe thead th {\n",
       "        text-align: right;\n",
       "    }\n",
       "</style>\n",
       "<table border=\"1\" class=\"dataframe\">\n",
       "  <thead>\n",
       "    <tr style=\"text-align: right;\">\n",
       "      <th></th>\n",
       "      <th>Temp</th>\n",
       "      <th>Yield</th>\n",
       "    </tr>\n",
       "  </thead>\n",
       "  <tbody>\n",
       "    <tr>\n",
       "      <th>0</th>\n",
       "      <td>50</td>\n",
       "      <td>3.3</td>\n",
       "    </tr>\n",
       "    <tr>\n",
       "      <th>1</th>\n",
       "      <td>50</td>\n",
       "      <td>2.8</td>\n",
       "    </tr>\n",
       "    <tr>\n",
       "      <th>2</th>\n",
       "      <td>50</td>\n",
       "      <td>2.9</td>\n",
       "    </tr>\n",
       "    <tr>\n",
       "      <th>3</th>\n",
       "      <td>70</td>\n",
       "      <td>2.3</td>\n",
       "    </tr>\n",
       "    <tr>\n",
       "      <th>4</th>\n",
       "      <td>70</td>\n",
       "      <td>2.6</td>\n",
       "    </tr>\n",
       "  </tbody>\n",
       "</table>\n",
       "</div>"
      ],
      "text/plain": [
       "   Temp  Yield\n",
       "0    50    3.3\n",
       "1    50    2.8\n",
       "2    50    2.9\n",
       "3    70    2.3\n",
       "4    70    2.6"
      ]
     },
     "execution_count": 2,
     "metadata": {},
     "output_type": "execute_result"
    }
   ],
   "source": [
    "data = pd.read_csv('yield.csv')\n",
    "data.head()"
   ]
  },
  {
   "cell_type": "markdown",
   "metadata": {},
   "source": [
    "### Display data "
   ]
  },
  {
   "cell_type": "code",
   "execution_count": 3,
   "metadata": {},
   "outputs": [],
   "source": [
    "def display_plot(X, y, y_pred = None):\n",
    "    plt.figure(figsize= (10,6))\n",
    "    plt.scatter(X, y)\n",
    "    if y_pred is not None:\n",
    "       plt.plot(X, y_pred, color = 'red' )    \n",
    "    plt.xlabel('temperature', fontsize = 12)\n",
    "    plt.ylabel('yield', fontsize = 12)\n",
    "    plt.title('Temperature vs Yield')    \n",
    "    plt.show()\n",
    "\n"
   ]
  },
  {
   "cell_type": "code",
   "execution_count": 4,
   "metadata": {},
   "outputs": [
    {
     "data": {
      "image/png": "[encoded data removed]",
      "text/plain": [
       "<matplotlib.figure.Figure at 0x247018bee10>"
      ]
     },
     "metadata": {},
     "output_type": "display_data"
    }
   ],
   "source": [
    "display_plot(data.Temp, data.Yield)"
   ]
  },
  {
   "cell_type": "markdown",
   "metadata": {},
   "source": [
    "### Display Correlation Matrix\n",
    "We can see that teher is low correlation between tempertaure and Yiled. Will simple Linear regerssion work?\n",
    "We will find this out in next section"
   ]
  },
  {
   "cell_type": "code",
   "execution_count": 5,
   "metadata": {},
   "outputs": [],
   "source": [
    "def display_corr_matrix(data):  \n",
    "    cor_matrix = data.corr().round(2)\n",
    "    fig = plt.figure(figsize=(6, 6));\n",
    "    sns.heatmap(cor_matrix, annot=True, center=0, cmap = sns.diverging_palette(250, 10, as_cmap=True), ax=plt.subplot(111));\n",
    "    plt.show()\n",
    "\n"
   ]
  },
  {
   "cell_type": "code",
   "execution_count": 6,
   "metadata": {},
   "outputs": [
    {
     "data": {
      "image/png": "[encoded data removed]",
      "text/plain": [
       "<matplotlib.figure.Figure at 0x24703908470>"
      ]
     },
     "metadata": {},
     "output_type": "display_data"
    }
   ],
   "source": [
    "display_corr_matrix(data)"
   ]
  },
  {
   "cell_type": "markdown",
   "metadata": {},
   "source": [
    "## Train Linear Model: Underfitting\n",
    "We  will train the model on training data. Since data points are less we will not use test set "
   ]
  },
  {
   "cell_type": "code",
   "execution_count": 7,
   "metadata": {},
   "outputs": [
    {
     "name": "stdout",
     "output_type": "stream",
     "text": [
      "Training RMSE is 0.364292065119059\n"
     ]
    }
   ],
   "source": [
    "from sklearn.linear_model import LinearRegression\n",
    "from sklearn.metrics import  mean_squared_error\n",
    "\n",
    "# data needs to be reshaped to 2 dimensions as alogorithm expects the data in two dimensions\n",
    "X_train = data.Temp.values.reshape(-1,1)\n",
    "y_train  = data.Yield.values.reshape(-1,1)\n",
    "\n",
    "#Fit Linear Regression Model\n",
    "model = LinearRegression( )\n",
    "model.fit(X_train, y_train)\n",
    "\n",
    "#Predict the output on training set\n",
    "y_pred = model.predict(X_train)\n",
    "\n",
    "#calculate root mean squared error\n",
    "mse = mean_squared_error(y_train, y_pred)\n",
    "rmse = np.sqrt(mse)\n",
    "print('Training RMSE is', rmse)"
   ]
  },
  {
   "cell_type": "markdown",
   "metadata": {},
   "source": [
    "#### Display the Fitted Line\n",
    "We can see from the graph that our model is underfitted because there are many points in the graph which are far from fitted line. The RMSE of 0.36429 also is on higher side. In next section we will try polynomial regression to get better RMSE score"
   ]
  },
  {
   "cell_type": "code",
   "execution_count": 8,
   "metadata": {},
   "outputs": [
    {
     "data": {
      "image/png": "[encoded data removed]",
      "text/plain": [
       "<matplotlib.figure.Figure at 0x24703bc9550>"
      ]
     },
     "metadata": {},
     "output_type": "display_data"
    }
   ],
   "source": [
    "display_plot(X_train, y_train, y_pred)"
   ]
  },
  {
   "cell_type": "markdown",
   "metadata": {},
   "source": [
    "## Polynomial Regression: Ideal Model\n",
    "We will convert the temerature into polynomial of degree 2 which will add a squared term in training set as second column\n"
   ]
  },
  {
   "cell_type": "markdown",
   "metadata": {},
   "source": [
    "### Create Polynomial Features"
   ]
  },
  {
   "cell_type": "code",
   "execution_count": 9,
   "metadata": {},
   "outputs": [
    {
     "data": {
      "text/plain": [
       "array([[   50.,  2500.],\n",
       "       [   50.,  2500.],\n",
       "       [   50.,  2500.],\n",
       "       [   70.,  4900.],\n",
       "       [   70.,  4900.],\n",
       "       [   70.,  4900.],\n",
       "       [   80.,  6400.],\n",
       "       [   80.,  6400.],\n",
       "       [   80.,  6400.],\n",
       "       [   90.,  8100.],\n",
       "       [   90.,  8100.],\n",
       "       [   90.,  8100.],\n",
       "       [  100., 10000.],\n",
       "       [  100., 10000.],\n",
       "       [  100., 10000.]])"
      ]
     },
     "execution_count": 9,
     "metadata": {},
     "output_type": "execute_result"
    }
   ],
   "source": [
    "from sklearn.preprocessing import PolynomialFeatures\n",
    "poly_features = PolynomialFeatures(degree = 2, include_bias = False)\n",
    "X_poly = poly_features.fit_transform(X_train)\n",
    "\n",
    "X_poly"
   ]
  },
  {
   "cell_type": "markdown",
   "metadata": {},
   "source": [
    "### Train The Model"
   ]
  },
  {
   "cell_type": "markdown",
   "metadata": {},
   "source": [
    "Now train the Linear regression Model on polynomial features. Note our training has an additional feature which is squared value of temeperature since we used a degree of 2\n",
    "\n",
    "The RMSE of 0.218 is much better than RMSE of 0.364 when simple regression model was run. \n",
    "Try varying the degree of of ploynomial to get optimum results"
   ]
  },
  {
   "cell_type": "code",
   "execution_count": 10,
   "metadata": {},
   "outputs": [
    {
     "name": "stdout",
     "output_type": "stream",
     "text": [
      "Training RMSE is 0.2185970050801511\n"
     ]
    }
   ],
   "source": [
    "model = LinearRegression( )\n",
    "model.fit(X_poly, y_train)\n",
    "\n",
    "\n",
    "y_pred = model.predict(X_poly)\n",
    "mse = mean_squared_error(y_train, y_pred)\n",
    "\n",
    "rmse = np.sqrt(mse)\n",
    "print('Training RMSE is', rmse)"
   ]
  },
  {
   "cell_type": "markdown",
   "metadata": {},
   "source": [
    "#### Dislay the Fitted curve: Ideal Model\n",
    "Instead of fitting a line as in Linear regression, we will fit a curve for polynomial regerssion .\n",
    "As we can see the curve is more accurate representation of the data points \n",
    "\n",
    "We will also print the equation of the curve"
   ]
  },
  {
   "cell_type": "code",
   "execution_count": 11,
   "metadata": {},
   "outputs": [],
   "source": [
    "def display_poly_data(model, X, y ):\n",
    "    plt.figure(figsize= (10,6))\n",
    "    X_grid = np.linspace(50, 100, 100).reshape(-1,1)\n",
    "    X_grid_poly = poly_features.fit_transform(X_grid)\n",
    "    y_grid  = model.predict(X_grid_poly)\n",
    "    plt.scatter(X, y)\n",
    "    plt.plot(X_grid, y_grid, color = 'red')\n",
    "    plt.xlabel('temperature', fontsize = 12)\n",
    "    plt.ylabel('yield', fontsize = 12)\n",
    "    plt.title('Temperature vs Yield')   \n",
    "    plt.show()\n",
    "    \n"
   ]
  },
  {
   "cell_type": "code",
   "execution_count": 12,
   "metadata": {},
   "outputs": [
    {
     "data": {
      "image/png": "[encoded data removed]",
      "text/plain": [
       "<matplotlib.figure.Figure at 0x247041567b8>"
      ]
     },
     "metadata": {},
     "output_type": "display_data"
    }
   ],
   "source": [
    "display_poly_data(model, X_train, y_train)\n"
   ]
  },
  {
   "cell_type": "markdown",
   "metadata": {},
   "source": [
    "### Display the equation of polynomial curve\n"
   ]
  },
  {
   "cell_type": "code",
   "execution_count": 13,
   "metadata": {
    "collapsed": true
   },
   "outputs": [],
   "source": [
    "def print_equation(model):\n",
    "    coef1 = model.coef_[0][0]\n",
    "    coef2 = model.coef_[0][1]\n",
    "    intercept = model.intercept_[0]\n",
    "    print('Equation of curve is')\n",
    "    print('y =  {:0.3f} + {:0.3f}x  + {:0.3f}x^2'.format(intercept , coef1, coef2))  \n",
    "    \n",
    "\n"
   ]
  },
  {
   "cell_type": "code",
   "execution_count": 14,
   "metadata": {},
   "outputs": [
    {
     "name": "stdout",
     "output_type": "stream",
     "text": [
      "Equation of curve is\n",
      "y =  7.960 + -0.154x  + 0.001x^2\n"
     ]
    }
   ],
   "source": [
    "#Print the equation of curve\n",
    "print_equation(model)"
   ]
  },
  {
   "cell_type": "markdown",
   "metadata": {},
   "source": [
    "## Polynomial Model of High Degree: Overfitting\n",
    "We will train a polynmial  model of degree 20 to see how it leads to overfiiting"
   ]
  },
  {
   "cell_type": "code",
   "execution_count": 15,
   "metadata": {},
   "outputs": [
    {
     "data": {
      "text/plain": [
       "array([[5.00000000e+01, 2.50000000e+03, 1.25000000e+05, 6.25000000e+06,\n",
       "        3.12500000e+08, 1.56250000e+10, 7.81250000e+11, 3.90625000e+13,\n",
       "        1.95312500e+15, 9.76562500e+16, 4.88281250e+18, 2.44140625e+20,\n",
       "        1.22070313e+22, 6.10351562e+23, 3.05175781e+25, 1.52587891e+27,\n",
       "        7.62939453e+28, 3.81469727e+30, 1.90734863e+32, 9.53674316e+33],\n",
       "       [5.00000000e+01, 2.50000000e+03, 1.25000000e+05, 6.25000000e+06,\n",
       "        3.12500000e+08, 1.56250000e+10, 7.81250000e+11, 3.90625000e+13,\n",
       "        1.95312500e+15, 9.76562500e+16, 4.88281250e+18, 2.44140625e+20,\n",
       "        1.22070313e+22, 6.10351562e+23, 3.05175781e+25, 1.52587891e+27,\n",
       "        7.62939453e+28, 3.81469727e+30, 1.90734863e+32, 9.53674316e+33]])"
      ]
     },
     "execution_count": 15,
     "metadata": {},
     "output_type": "execute_result"
    }
   ],
   "source": [
    "poly_features = PolynomialFeatures(degree = 20, include_bias = False)\n",
    "X_poly = poly_features.fit_transform(X_train)\n",
    "\n",
    "X_poly[:2]"
   ]
  },
  {
   "cell_type": "markdown",
   "metadata": {},
   "source": [
    "### Train the model"
   ]
  },
  {
   "cell_type": "markdown",
   "metadata": {},
   "source": [
    "Train the model with polynomial features of degree 20 and print rmse sacore"
   ]
  },
  {
   "cell_type": "code",
   "execution_count": 16,
   "metadata": {},
   "outputs": [
    {
     "name": "stdout",
     "output_type": "stream",
     "text": [
      "Training RMSE is 0.196638416050035\n"
     ]
    }
   ],
   "source": [
    "model = LinearRegression( )\n",
    "model.fit(X_poly, y_train)\n",
    "\n",
    "\n",
    "y_pred = model.predict(X_poly)\n",
    "mse = mean_squared_error(y_train, y_pred)\n",
    "\n",
    "rmse = np.sqrt(mse)\n",
    "print('Training RMSE is', rmse)"
   ]
  },
  {
   "cell_type": "markdown",
   "metadata": {},
   "source": [
    "#### Display  the model. \n",
    "\n",
    "Even though training score is improved it is not a good model becasue this model will perform poorly on. This model tries to pass through each and every data point but in the process it takes big deviations as can be seen for temeprature values between 90 and 100\n",
    "\n",
    "For example if a new data point is predicted with temeperature of around 97, it will predict a negative yield which is unrealistic prediction"
   ]
  },
  {
   "cell_type": "code",
   "execution_count": 17,
   "metadata": {},
   "outputs": [
    {
     "data": {
      "image/png": "[encoded data removed]",
      "text/plain": [
       "<matplotlib.figure.Figure at 0x24704463128>"
      ]
     },
     "metadata": {},
     "output_type": "display_data"
    }
   ],
   "source": [
    "display_poly_data(model, X_train, y_train)"
   ]
  }
 ],
 "metadata": {
  "kernelspec": {
   "display_name": "Python 3",
   "language": "python",
   "name": "python3"
  },
  "language_info": {
   "codemirror_mode": {
    "name": "ipython",
    "version": 3
   },
   "file_extension": ".py",
   "mimetype": "text/x-python",
   "name": "python",
   "nbconvert_exporter": "python",
   "pygments_lexer": "ipython3",
   "version": "3.6.2"
  }
 },
 "nbformat": 4,
 "nbformat_minor": 2
}
