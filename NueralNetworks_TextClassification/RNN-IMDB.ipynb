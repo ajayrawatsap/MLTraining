{
 "cells": [
  {
   "cell_type": "code",
   "execution_count": 24,
   "metadata": {
    "collapsed": true
   },
   "outputs": [],
   "source": [
    "from keras.datasets import imdb\n",
    "from keras import preprocessing\n",
    "from keras.preprocessing.text import Tokenizer\n",
    "from keras.preprocessing.sequence import pad_sequences\n",
    "from keras.models import Sequential\n",
    "from keras.layers import Flatten, Dense, Embedding, SimpleRNN, LSTM\n",
    "import os\n",
    "import numpy as np\n",
    "import matplotlib.pyplot as plt"
   ]
  },
  {
   "cell_type": "code",
   "execution_count": 2,
   "metadata": {
    "collapsed": true
   },
   "outputs": [],
   "source": [
    "def plot_accuracy( history ):\n",
    "    acc = history.history['acc']\n",
    "    val_acc = history.history['val_acc']\n",
    "    epochs = range(1, len(acc) + 1)\n",
    "\n",
    "    plt.figure(figsize = (12, 6))\n",
    "    plt.plot(epochs, acc, 'b', label = 'Training Accuracy')\n",
    "    plt.plot(epochs, val_acc, 'r', label = 'Validation Accuracy')\n",
    "    plt.legend()\n",
    "\n",
    "def plot_loss(history):\n",
    "    loss = history.history['loss']\n",
    "    val_loss = history.history['val_loss']\n",
    "    plt.figure(figsize = (12, 6))\n",
    "    epochs = range(1, len(loss) + 1)\n",
    "    plt.plot(epochs, loss, 'b', label = 'Training Loss')\n",
    "    plt.plot(epochs, val_loss, 'r', label = 'Validation Loss')\n",
    "    plt.legend()\n",
    "          "
   ]
  },
  {
   "cell_type": "markdown",
   "metadata": {},
   "source": [
    "## Using NN on Pre-Loaded IMDB DATA"
   ]
  },
  {
   "cell_type": "markdown",
   "metadata": {},
   "source": [
    "#### Load IMDB data"
   ]
  },
  {
   "cell_type": "code",
   "execution_count": 5,
   "metadata": {},
   "outputs": [
    {
     "name": "stdout",
     "output_type": "stream",
     "text": [
      "Train Shape (25000,), Test Shape(25000,)\n"
     ]
    }
   ],
   "source": [
    "max_features = 10000\n",
    "maxlen = 1000\n",
    "def get_pre_loaded_data(max_features, maxlen):\n",
    "    #max_features:Max Number of words to use  \n",
    "    # maxlen: Number of words to pick from text\n",
    "    (X_train, y_train), (X_test, y_test) = imdb.load_data( num_words= max_features)\n",
    "    print('Train Shape {}, Test Shape{}'.format(X_train.shape, X_test.shape))\n",
    "\n",
    "    #Take only first maxlen words from review\n",
    "    X_train = pad_sequences(X_train, maxlen = maxlen)\n",
    "    X_test =  pad_sequences(X_test, maxlen = maxlen)\n",
    "    return X_train, y_train, X_test, y_test\n",
    "\n",
    "X_train, y_train, X_test, y_test = get_pre_loaded_data(max_features, maxlen)"
   ]
  },
  {
   "cell_type": "markdown",
   "metadata": {},
   "source": [
    "#### Use Embeding layer"
   ]
  },
  {
   "cell_type": "code",
   "execution_count": 6,
   "metadata": {},
   "outputs": [
    {
     "name": "stdout",
     "output_type": "stream",
     "text": [
      "_________________________________________________________________\n",
      "Layer (type)                 Output Shape              Param #   \n",
      "=================================================================\n",
      "embedding_1 (Embedding)      (None, 1000, 16)          160000    \n",
      "_________________________________________________________________\n",
      "flatten_1 (Flatten)          (None, 16000)             0         \n",
      "_________________________________________________________________\n",
      "dense_1 (Dense)              (None, 1)                 16001     \n",
      "=================================================================\n",
      "Total params: 176,001\n",
      "Trainable params: 176,001\n",
      "Non-trainable params: 0\n",
      "_________________________________________________________________\n"
     ]
    }
   ],
   "source": [
    "model = Sequential()\n",
    "model.add(Embedding(max_features, 16, input_length = maxlen))\n",
    "model.add(Flatten())\n",
    "model.add(Dense(1, activation= 'sigmoid'))\n",
    "model.compile(optimizer='rmsprop', loss = 'binary_crossentropy', metrics =['acc'])\n",
    "model.summary()"
   ]
  },
  {
   "cell_type": "code",
   "execution_count": 7,
   "metadata": {},
   "outputs": [
    {
     "name": "stdout",
     "output_type": "stream",
     "text": [
      "Train on 20000 samples, validate on 5000 samples\n",
      "Epoch 1/20\n",
      "20000/20000 [==============================] - 4s 224us/step - loss: 0.5266 - acc: 0.7430 - val_loss: 0.3399 - val_acc: 0.8572\n",
      "Epoch 2/20\n",
      "20000/20000 [==============================] - 5s 246us/step - loss: 0.2583 - acc: 0.8985 - val_loss: 0.2754 - val_acc: 0.8896\n",
      "Epoch 3/20\n",
      "20000/20000 [==============================] - 4s 219us/step - loss: 0.1883 - acc: 0.9283 - val_loss: 0.2742 - val_acc: 0.8912\n",
      "Epoch 4/20\n",
      "20000/20000 [==============================] - 5s 238us/step - loss: 0.1459 - acc: 0.9469 - val_loss: 0.2799 - val_acc: 0.8918\n",
      "Epoch 5/20\n",
      "20000/20000 [==============================] - 5s 252us/step - loss: 0.1141 - acc: 0.9606 - val_loss: 0.2949 - val_acc: 0.8918\n",
      "Epoch 6/20\n",
      "20000/20000 [==============================] - 6s 279us/step - loss: 0.0886 - acc: 0.9713 - val_loss: 0.3132 - val_acc: 0.8928\n",
      "Epoch 7/20\n",
      "20000/20000 [==============================] - 5s 247us/step - loss: 0.0670 - acc: 0.9792 - val_loss: 0.3364 - val_acc: 0.8892\n",
      "Epoch 8/20\n",
      "20000/20000 [==============================] - 4s 223us/step - loss: 0.0506 - acc: 0.9847 - val_loss: 0.3645 - val_acc: 0.8842\n",
      "Epoch 9/20\n",
      "20000/20000 [==============================] - 5s 242us/step - loss: 0.0372 - acc: 0.9898 - val_loss: 0.3894 - val_acc: 0.8824\n",
      "Epoch 10/20\n",
      "20000/20000 [==============================] - 5s 268us/step - loss: 0.0265 - acc: 0.9934 - val_loss: 0.4234 - val_acc: 0.8772\n",
      "Epoch 11/20\n",
      "20000/20000 [==============================] - 4s 218us/step - loss: 0.0185 - acc: 0.9959 - val_loss: 0.4531 - val_acc: 0.8782\n",
      "Epoch 12/20\n",
      "20000/20000 [==============================] - 5s 244us/step - loss: 0.0128 - acc: 0.9975 - val_loss: 0.4832 - val_acc: 0.8782\n",
      "Epoch 13/20\n",
      "20000/20000 [==============================] - 5s 246us/step - loss: 0.0088 - acc: 0.9984 - val_loss: 0.5190 - val_acc: 0.8750\n",
      "Epoch 14/20\n",
      "20000/20000 [==============================] - 4s 213us/step - loss: 0.0060 - acc: 0.9986 - val_loss: 0.5509 - val_acc: 0.8748\n",
      "Epoch 15/20\n",
      "20000/20000 [==============================] - 4s 213us/step - loss: 0.0041 - acc: 0.9993 - val_loss: 0.6022 - val_acc: 0.8692\n",
      "Epoch 16/20\n",
      "20000/20000 [==============================] - 5s 230us/step - loss: 0.0027 - acc: 0.9996 - val_loss: 0.6273 - val_acc: 0.8692\n",
      "Epoch 17/20\n",
      "20000/20000 [==============================] - 6s 295us/step - loss: 0.0018 - acc: 0.9997 - val_loss: 0.6604 - val_acc: 0.8706\n",
      "Epoch 18/20\n",
      "20000/20000 [==============================] - 5s 255us/step - loss: 0.0014 - acc: 0.9997 - val_loss: 0.6898 - val_acc: 0.8690\n",
      "Epoch 19/20\n",
      "20000/20000 [==============================] - 5s 253us/step - loss: 9.5350e-04 - acc: 0.9998 - val_loss: 0.7310 - val_acc: 0.8656\n",
      "Epoch 20/20\n",
      "20000/20000 [==============================] - 5s 245us/step - loss: 7.7528e-04 - acc: 0.9999 - val_loss: 0.7779 - val_acc: 0.8646\n"
     ]
    }
   ],
   "source": [
    "history = model.fit( X_train,\n",
    "                     y_train,\n",
    "                     epochs = 20,\n",
    "                     batch_size = 32,\n",
    "                     validation_split = 0.2\n",
    "                    \n",
    "                 )"
   ]
  },
  {
   "cell_type": "markdown",
   "metadata": {},
   "source": [
    "##### plot accuracy and loss"
   ]
  },
  {
   "cell_type": "code",
   "execution_count": 8,
   "metadata": {},
   "outputs": [
    {
     "data": {
      "image/png": "[encoded data removed]",
      "text/plain": [
       "<Figure size 864x432 with 1 Axes>"
      ]
     },
     "metadata": {},
     "output_type": "display_data"
    }
   ],
   "source": [
    "plot_accuracy(history)\n",
    "plt.show()"
   ]
  },
  {
   "cell_type": "markdown",
   "metadata": {},
   "source": [
    "## Using Pre-Trained Embedding on Raw Data"
   ]
  },
  {
   "cell_type": "markdown",
   "metadata": {},
   "source": [
    "##### Read Traning review files  and Labels into list"
   ]
  },
  {
   "cell_type": "code",
   "execution_count": null,
   "metadata": {
    "collapsed": true
   },
   "outputs": [],
   "source": [
    "imdb_dir = 'C:\\\\Users\\\\I056036\\Documents\\\\Docs\\Development\\\\Tutorials\\\\Keras\\\\RNN-IMDB\\\\aclImdb'\n",
    "train_dir = os.path.join(imdb_dir, 'train')\n",
    "\n",
    "def get_data_from_files(dir):\n",
    "    labels = []\n",
    "    texts = []\n",
    "\n",
    "    for label_type in ['neg', 'pos']:\n",
    "        dir_name = os.path.join(dir, label_type)\n",
    "        for fname in os.listdir(dir_name):\n",
    "           if fname[-4:] == '.txt':         \n",
    "              f = open(os.path.join(dir_name, fname), encoding=\"utf8\")\n",
    "              texts.append(f.read())\n",
    "              f.close()\n",
    "           if label_type == 'neg':\n",
    "               labels.append(0)\n",
    "           else:\n",
    "                labels.append(1)\n",
    "    return texts, labels\n",
    "\n",
    "texts, labels = get_data_from_files(train_dir) \n",
    "print('Text size {}, Labels Size {}'.format(len(texts), len(labels)))           "
   ]
  },
  {
   "cell_type": "markdown",
   "metadata": {},
   "source": [
    "#### Tokenizing of Raw data"
   ]
  },
  {
   "cell_type": "code",
   "execution_count": null,
   "metadata": {
    "collapsed": true
   },
   "outputs": [],
   "source": [
    "#texts = ['My name is Ajay Rawat', 'His Name is Vijay', 'Her Name is Pooja', 'Pooja has a cat', 'ajay goes to school']\n",
    "maxlen = 1000   #Review lenght in words\n",
    "training_samples = 15000 #Number of samples to train on\n",
    "validation_samples = 10000\n",
    "max_words = 20000 #top number of words in sample\n",
    "\n",
    "tokenizer = Tokenizer(num_words = max_words)\n",
    "tokenizer.fit_on_texts(texts)\n",
    "sequences = tokenizer.texts_to_sequences(texts) # Craete a numneric array for text array\n",
    "word_index = tokenizer.word_index  #Mapping of all word to number ignoring num_words\n",
    "print('Found %s unique token' % len(word_index))\n",
    "\n",
    "data = pad_sequences(sequences, maxlen = maxlen) #Fill with zeroes so that lenght is same for all text in list\n",
    "labels = np.asarray(labels)\n",
    "\n",
    "\n",
    "\n",
    "#Shuffle data and lables\n",
    "indices = np.arange(data.shape[0])\n",
    "np.random.shuffle(indices)\n",
    "data = data[indices]\n",
    "labels = labels[indices]\n",
    "\n",
    "#Create training and Validatin data\n",
    "X_train = data[:training_samples]\n",
    "y_train  = labels[:training_samples]\n",
    "X_valid =  data[training_samples: training_samples + validation_samples]\n",
    "y_valid  =     labels[training_samples: training_samples + validation_samples]\n",
    "print('Training Shape {} validation Shape{}'.format(X_train.shape, X_valid.shape))"
   ]
  },
  {
   "cell_type": "markdown",
   "metadata": {},
   "source": [
    "#### Parsing Glove Embedding  \n",
    "<br> Create a dictionary of words and numercal coefiicients\n",
    "<br>https://nlp.stanford.edu/projects/glove/ \n",
    "<br>file glove.6B.zip"
   ]
  },
  {
   "cell_type": "code",
   "execution_count": null,
   "metadata": {
    "collapsed": true
   },
   "outputs": [],
   "source": [
    "glove_dir = 'C:\\\\Users\\\\I056036\\\\Documents\\\\Docs\\\\Development\\\\Tutorials\\\\Keras\\\\RNN-IMDB\\\\glove.6B'\n",
    "embedding_index = {}\n",
    "\n",
    "#Use 100 dimensional embedding vectors for 40K words\n",
    "f = open(os.path.join(glove_dir, 'glove.6B.100d.txt'), encoding='utf8')  \n",
    "for line in f:\n",
    "   values = line.split()\n",
    "   word = values[0]\n",
    "   coefs = np.asarray(values[1:], dtype = 'float32')\n",
    "   embedding_index[word]  = coefs\n",
    "\n",
    "f.close()    \n",
    "print('Found %s word vectors' %len(embedding_index))\n"
   ]
  },
  {
   "cell_type": "markdown",
   "metadata": {},
   "source": [
    "#### Build embedding matrix of shape (max_words, embedding_dim)\n"
   ]
  },
  {
   "cell_type": "code",
   "execution_count": null,
   "metadata": {
    "collapsed": true
   },
   "outputs": [],
   "source": [
    "# Create embedding matrix for top words that were found in text \n",
    "#If the word in text is not found in pre-trained emebdding then it will be set as zero\n",
    "embedding_dim = 100\n",
    "embedding_matrix = np.zeros((max_words, embedding_dim))\n",
    "for word, i in word_index.items():\n",
    "    if i < max_words:\n",
    "        embedding_vector = embedding_index.get(word)\n",
    "        if embedding_vector is not None:\n",
    "            embedding_matrix[i] = embedding_vector\n",
    "\n",
    "embedding_matrix.shape"
   ]
  },
  {
   "cell_type": "markdown",
   "metadata": {},
   "source": [
    "#### Create a model"
   ]
  },
  {
   "cell_type": "code",
   "execution_count": null,
   "metadata": {
    "collapsed": true
   },
   "outputs": [],
   "source": [
    "def get_model():\n",
    "    model = Sequential()\n",
    "    model.add(Embedding(max_words, embedding_dim, input_length = maxlen))\n",
    "    model.add(Flatten())\n",
    "\n",
    "    model.add(Dense(32, activation= 'relu'))\n",
    "    model.add(Dense(1, activation= 'sigmoid'))\n",
    "\n",
    "    model.compile(optimizer='rmsprop', loss = 'binary_crossentropy', metrics =['acc'])\n",
    "    return model"
   ]
  },
  {
   "cell_type": "markdown",
   "metadata": {},
   "source": [
    "#### Load pretranied word embeddings into emebedding layer"
   ]
  },
  {
   "cell_type": "code",
   "execution_count": null,
   "metadata": {
    "collapsed": true
   },
   "outputs": [],
   "source": [
    "model = get_model()\n",
    "model.layers[0].set_weights([embedding_matrix])\n",
    "model.layers[0].trainable = False"
   ]
  },
  {
   "cell_type": "markdown",
   "metadata": {},
   "source": [
    "####  Train and Evalute"
   ]
  },
  {
   "cell_type": "code",
   "execution_count": null,
   "metadata": {
    "collapsed": true
   },
   "outputs": [],
   "source": [
    "model.compile(optimizer='rmsprop', loss = 'binary_crossentropy', metrics =['acc'])\n",
    "history = model.fit(X_train,\n",
    "                    y_train,\n",
    "                    epochs = 3,\n",
    "                   batch_size = 32,\n",
    "                   validation_data = (X_valid, y_valid)\n",
    "                   )"
   ]
  },
  {
   "cell_type": "markdown",
   "metadata": {},
   "source": [
    "#### Plot Accuracy and Loss"
   ]
  },
  {
   "cell_type": "code",
   "execution_count": null,
   "metadata": {
    "collapsed": true
   },
   "outputs": [],
   "source": [
    "plot_accuracy(history)\n",
    "plt.show()"
   ]
  },
  {
   "cell_type": "markdown",
   "metadata": {},
   "source": [
    "#### Evalute on test set"
   ]
  },
  {
   "cell_type": "code",
   "execution_count": null,
   "metadata": {
    "collapsed": true
   },
   "outputs": [],
   "source": [
    "def evalaute_test_set(model):\n",
    "    test_dir = os.path.join(imdb_dir, 'train')\n",
    "    texts, labels = get_data_from_files(test_dir)\n",
    "    print('Text size {}, Labels Size {}'.format(len(texts), len(labels)))  \n",
    "    sequences = tokenizer.texts_to_sequences(texts)\n",
    "    X_test = pad_sequences(sequences, maxlen = maxlen)\n",
    "    y_test = np.asarray(labels)\n",
    "\n",
    "    loss, acc = model.evaluate(X_test, y_test)\n",
    "    print('Loss={}, Accuracy = {}'.format(loss, acc))\n",
    "    \n",
    "evalaute_test_set(model)    "
   ]
  },
  {
   "cell_type": "markdown",
   "metadata": {},
   "source": [
    "#### Evaluate on sample review"
   ]
  },
  {
   "cell_type": "code",
   "execution_count": null,
   "metadata": {
    "collapsed": true
   },
   "outputs": [],
   "source": [
    "def evalaute_sample(model):\n",
    "    texts = []\n",
    "    new_review_file = 'C:\\\\Users\\\\I056036\\\\Documents\\\\Docs\\\\Development\\\\Tutorials\\\\Keras\\\\RNN-IMDB\\\\aclImdb\\\\new\\\\test.txt'\n",
    "    f = open(new_review_file, encoding=\"utf8\")\n",
    "    texts.append(f.read())\n",
    "    f.close()\n",
    "    print(texts)\n",
    "    sequences = tokenizer.texts_to_sequences(texts)\n",
    "    X_test = pad_sequences(sequences, maxlen = maxlen)\n",
    "    acc =model.predict_classes(X_test)\n",
    "    return acc\n",
    "\n",
    "evalaute_sample(model)   "
   ]
  },
  {
   "cell_type": "markdown",
   "metadata": {},
   "source": [
    "## Train Without Pre-Trained Embeddding"
   ]
  },
  {
   "cell_type": "code",
   "execution_count": null,
   "metadata": {
    "collapsed": true
   },
   "outputs": [],
   "source": [
    "model = get_model()\n",
    "history = model.fit(X_train,\n",
    "                    y_train,\n",
    "                    epochs = 3,\n",
    "                   batch_size = 32,\n",
    "                   validation_data = (X_valid, y_valid)\n",
    "                   )"
   ]
  },
  {
   "cell_type": "code",
   "execution_count": null,
   "metadata": {
    "collapsed": true
   },
   "outputs": [],
   "source": [
    "plot_accuracy(history)\n",
    "plt.show()"
   ]
  },
  {
   "cell_type": "code",
   "execution_count": null,
   "metadata": {
    "collapsed": true
   },
   "outputs": [],
   "source": [
    "evalaute_test_set(model) "
   ]
  },
  {
   "cell_type": "markdown",
   "metadata": {},
   "source": [
    "#### Evaluate on a sample review"
   ]
  },
  {
   "cell_type": "code",
   "execution_count": null,
   "metadata": {
    "collapsed": true
   },
   "outputs": [],
   "source": [
    "\n",
    "evalaute_sample(model)   "
   ]
  },
  {
   "cell_type": "markdown",
   "metadata": {},
   "source": [
    "## Using SImple RNN"
   ]
  },
  {
   "cell_type": "code",
   "execution_count": 9,
   "metadata": {},
   "outputs": [
    {
     "name": "stdout",
     "output_type": "stream",
     "text": [
      "Train Shape (25000,), Test Shape(25000,)\n"
     ]
    }
   ],
   "source": [
    "max_features = 10000\n",
    "maxlen = 1000\n",
    "bacth_size  = 32\n",
    "X_train, y_train, X_test, y_test = get_pre_loaded_data(max_features, maxlen)"
   ]
  },
  {
   "cell_type": "code",
   "execution_count": 20,
   "metadata": {
    "collapsed": true
   },
   "outputs": [],
   "source": [
    "def get_model_simple_rnn():\n",
    "    model = Sequential()\n",
    "    model.add(Embedding(max_features, 32))\n",
    "    model.add(SimpleRNN(32))\n",
    "    model.add(Dense(1, activation= 'sigmoid'))\n",
    "\n",
    "    model.compile( optimizer= 'rmsprop',\n",
    "                   loss = 'binary_crossentropy',\n",
    "                   metrics = ['acc']\n",
    "                 )\n",
    "    return model"
   ]
  },
  {
   "cell_type": "code",
   "execution_count": 22,
   "metadata": {},
   "outputs": [
    {
     "name": "stdout",
     "output_type": "stream",
     "text": [
      "Train on 20000 samples, validate on 5000 samples\n",
      "Epoch 1/10\n",
      "20000/20000 [==============================] - 48s 2ms/step - loss: 0.6616 - acc: 0.5876 - val_loss: 0.5644 - val_acc: 0.7160\n",
      "Epoch 2/10\n",
      "20000/20000 [==============================] - 49s 2ms/step - loss: 0.4315 - acc: 0.8124 - val_loss: 0.4900 - val_acc: 0.7858\n",
      "Epoch 3/10\n",
      "20000/20000 [==============================] - 49s 2ms/step - loss: 0.3195 - acc: 0.8708 - val_loss: 0.3660 - val_acc: 0.8504\n",
      "Epoch 4/10\n",
      "20000/20000 [==============================] - 48s 2ms/step - loss: 0.2570 - acc: 0.8957 - val_loss: 0.4457 - val_acc: 0.7952\n",
      "Epoch 5/10\n",
      "20000/20000 [==============================] - 49s 2ms/step - loss: 0.2169 - acc: 0.9140 - val_loss: 0.5128 - val_acc: 0.7728\n",
      "Epoch 6/10\n",
      "20000/20000 [==============================] - 52s 3ms/step - loss: 0.2583 - acc: 0.8900 - val_loss: 0.4771 - val_acc: 0.8466\n",
      "Epoch 7/10\n",
      "20000/20000 [==============================] - 47s 2ms/step - loss: 0.1339 - acc: 0.9517 - val_loss: 0.4427 - val_acc: 0.8488\n",
      "Epoch 8/10\n",
      "20000/20000 [==============================] - 46s 2ms/step - loss: 0.0768 - acc: 0.9746 - val_loss: 0.4861 - val_acc: 0.8350\n",
      "Epoch 9/10\n",
      "20000/20000 [==============================] - 46s 2ms/step - loss: 0.0447 - acc: 0.9871 - val_loss: 0.7357 - val_acc: 0.7448\n",
      "Epoch 10/10\n",
      "20000/20000 [==============================] - 49s 2ms/step - loss: 0.0290 - acc: 0.9921 - val_loss: 0.6724 - val_acc: 0.7948\n"
     ]
    }
   ],
   "source": [
    "model = get_model_simple_rnn()\n",
    "history = model.fit(X_train,\n",
    "                    y_train,\n",
    "                    epochs = 10,\n",
    "                    batch_size = 128,\n",
    "                    validation_split = 0.2\n",
    "                    )"
   ]
  },
  {
   "cell_type": "code",
   "execution_count": 23,
   "metadata": {},
   "outputs": [
    {
     "data": {
      "image/png": "[encoded data removed]",
      "text/plain": [
       "<Figure size 864x432 with 1 Axes>"
      ]
     },
     "metadata": {},
     "output_type": "display_data"
    }
   ],
   "source": [
    "plot_accuracy(history)"
   ]
  },
  {
   "cell_type": "markdown",
   "metadata": {},
   "source": [
    "## Using LSTM"
   ]
  },
  {
   "cell_type": "code",
   "execution_count": 25,
   "metadata": {
    "collapsed": true
   },
   "outputs": [],
   "source": [
    "def get_model_lstm_rnn():\n",
    "    model = Sequential()\n",
    "    model.add(Embedding(max_features, 32))\n",
    "    model.add(LSTM(32))\n",
    "    model.add(Dense(1, activation= 'sigmoid'))\n",
    "\n",
    "    model.compile( optimizer= 'rmsprop',\n",
    "                   loss = 'binary_crossentropy',\n",
    "                   metrics = ['acc']\n",
    "                 )\n",
    "    return model"
   ]
  },
  {
   "cell_type": "code",
   "execution_count": 28,
   "metadata": {},
   "outputs": [
    {
     "name": "stdout",
     "output_type": "stream",
     "text": [
      "Train on 20000 samples, validate on 5000 samples\n",
      "Epoch 1/20\n",
      "20000/20000 [==============================] - 140s 7ms/step - loss: 0.5187 - acc: 0.7583 - val_loss: 0.3488 - val_acc: 0.8668\n",
      "Epoch 2/20\n",
      "20000/20000 [==============================] - 146s 7ms/step - loss: 0.3063 - acc: 0.8787 - val_loss: 0.3500 - val_acc: 0.8568\n",
      "Epoch 3/20\n",
      "20000/20000 [==============================] - 140s 7ms/step - loss: 0.2396 - acc: 0.9102 - val_loss: 0.4108 - val_acc: 0.8530\n",
      "Epoch 4/20\n",
      "20000/20000 [==============================] - 139s 7ms/step - loss: 0.2002 - acc: 0.9258 - val_loss: 0.2853 - val_acc: 0.8776\n",
      "Epoch 5/20\n",
      "20000/20000 [==============================] - 141s 7ms/step - loss: 0.1754 - acc: 0.9366 - val_loss: 0.3001 - val_acc: 0.8934\n",
      "Epoch 6/20\n",
      "20000/20000 [==============================] - 140s 7ms/step - loss: 0.1599 - acc: 0.9429 - val_loss: 0.3325 - val_acc: 0.8674\n",
      "Epoch 7/20\n",
      "20000/20000 [==============================] - 142s 7ms/step - loss: 0.1481 - acc: 0.9489 - val_loss: 0.3646 - val_acc: 0.8622\n",
      "Epoch 8/20\n",
      "20000/20000 [==============================] - 148s 7ms/step - loss: 0.1354 - acc: 0.9519 - val_loss: 0.4614 - val_acc: 0.8676\n",
      "Epoch 9/20\n",
      "20000/20000 [==============================] - 143s 7ms/step - loss: 0.1218 - acc: 0.9583 - val_loss: 0.3938 - val_acc: 0.8698\n",
      "Epoch 10/20\n",
      "20000/20000 [==============================] - 140s 7ms/step - loss: 0.1123 - acc: 0.9612 - val_loss: 0.3536 - val_acc: 0.8862\n",
      "Epoch 11/20\n",
      "20000/20000 [==============================] - 142s 7ms/step - loss: 0.1010 - acc: 0.9653 - val_loss: 0.3880 - val_acc: 0.8734\n",
      "Epoch 12/20\n",
      "20000/20000 [==============================] - 139s 7ms/step - loss: 0.0955 - acc: 0.9681 - val_loss: 0.4203 - val_acc: 0.8800\n",
      "Epoch 13/20\n",
      "20000/20000 [==============================] - 139s 7ms/step - loss: 0.0906 - acc: 0.9695 - val_loss: 0.5133 - val_acc: 0.8606\n",
      "Epoch 14/20\n",
      "20000/20000 [==============================] - 139s 7ms/step - loss: 0.0794 - acc: 0.9732 - val_loss: 0.5598 - val_acc: 0.8560\n",
      "Epoch 15/20\n",
      "20000/20000 [==============================] - 145s 7ms/step - loss: 0.0755 - acc: 0.9753 - val_loss: 0.5372 - val_acc: 0.8666\n",
      "Epoch 16/20\n",
      "20000/20000 [==============================] - 139s 7ms/step - loss: 0.0749 - acc: 0.9746 - val_loss: 0.3938 - val_acc: 0.8654\n",
      "Epoch 17/20\n",
      "20000/20000 [==============================] - 140s 7ms/step - loss: 0.0684 - acc: 0.9782 - val_loss: 0.4137 - val_acc: 0.8552\n",
      "Epoch 18/20\n",
      "20000/20000 [==============================] - 140s 7ms/step - loss: 0.0633 - acc: 0.9794 - val_loss: 0.4936 - val_acc: 0.8546\n",
      "Epoch 19/20\n",
      "20000/20000 [==============================] - 137s 7ms/step - loss: 0.0591 - acc: 0.9814 - val_loss: 0.5392 - val_acc: 0.8714\n",
      "Epoch 20/20\n",
      "20000/20000 [==============================] - 139s 7ms/step - loss: 0.0561 - acc: 0.9815 - val_loss: 0.5042 - val_acc: 0.8754\n"
     ]
    }
   ],
   "source": [
    "model = get_model_lstm_rnn()\n",
    "history = model.fit(X_train,\n",
    "                    y_train,\n",
    "                    epochs = 20,\n",
    "                    batch_size = 128,\n",
    "                    validation_split = 0.2\n",
    "                    )"
   ]
  },
  {
   "cell_type": "code",
   "execution_count": 30,
   "metadata": {},
   "outputs": [
    {
     "data": {
      "image/png": "[encoded data removed]",
      "text/plain": [
       "<Figure size 864x432 with 1 Axes>"
      ]
     },
     "metadata": {},
     "output_type": "display_data"
    }
   ],
   "source": [
    "plot_accuracy(history)"
   ]
  }
 ],
 "metadata": {
  "kernelspec": {
   "display_name": "Python 3",
   "language": "python",
   "name": "python3"
  },
  "language_info": {
   "codemirror_mode": {
    "name": "ipython",
    "version": 3
   },
   "file_extension": ".py",
   "mimetype": "text/x-python",
   "name": "python",
   "nbconvert_exporter": "python",
   "pygments_lexer": "ipython3",
   "version": "3.5.5"
  }
 },
 "nbformat": 4,
 "nbformat_minor": 2
}
