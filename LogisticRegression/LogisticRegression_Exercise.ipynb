{
 "cells": [
  {
   "cell_type": "markdown",
   "metadata": {},
   "source": [
    "## IRIS Dataset\n",
    "picture and text published from http://suruchifialoke.com/2016-10-13-machine-learning-tutorial-iris-classification/\n",
    "![title](iris.png)\n",
    "\n",
    "Three Iris varieties were used in the Iris flower data set outlined by Ronald Fisher in his famous 1936 paper “The use of multiple measurements in taxonomic problems as an example of linear discriminant analysis” PDF. Since then his paper has been cited over 2000 times and the data set has been used by almost every data science beginner.\n",
    "\n",
    "The data set consists of:\n",
    "\n",
    "150 samples\n",
    "3 labels: species of Iris (Iris setosa, Iris virginica and Iris versicolor)\n",
    "\n",
    "4 features: length and the width of the sepals and petals, in centimetres"
   ]
  },
  {
   "cell_type": "code",
   "execution_count": 1,
   "metadata": {
    "collapsed": true
   },
   "outputs": [],
   "source": [
    "import numpy as np\n",
    "import pandas as pd\n",
    "from sklearn import datasets\n",
    "import matplotlib.pyplot as plt\n",
    "import seaborn as sns\n",
    "random_state = 42"
   ]
  },
  {
   "cell_type": "markdown",
   "metadata": {},
   "source": [
    "### Load Dataset\n"
   ]
  },
  {
   "cell_type": "markdown",
   "metadata": {},
   "source": [
    "sklearn libraray comes with IRIS data pre-loaded, which we would convert into a pandas dataframe\n"
   ]
  },
  {
   "cell_type": "code",
   "execution_count": 2,
   "metadata": {
    "collapsed": true
   },
   "outputs": [],
   "source": [
    "def get_iris_dataset():\n",
    "    iris = datasets.load_iris()\n",
    "    iris_df = pd.DataFrame(iris.data, columns= iris.feature_names)\n",
    "    iris_df['target'] = iris.target\n",
    "    print('shape', iris_df.shape)\n",
    "    iris_df.head( )\n",
    "    return iris_df, iris.target_names\n",
    "\n"
   ]
  },
  {
   "cell_type": "markdown",
   "metadata": {},
   "source": [
    " Read data an print first five rows"
   ]
  },
  {
   "cell_type": "code",
   "execution_count": null,
   "metadata": {},
   "outputs": [],
   "source": []
  },
  {
   "cell_type": "markdown",
   "metadata": {},
   "source": [
    "Print data info"
   ]
  },
  {
   "cell_type": "code",
   "execution_count": null,
   "metadata": {},
   "outputs": [],
   "source": []
  },
  {
   "cell_type": "markdown",
   "metadata": {},
   "source": [
    "The target field in data represents the  species of flower which are mapped as mapped as\n",
    "<br>setosa : 0, \n",
    "<br>versicolor: 1 \n",
    "<br>virginica: 2. \n",
    "\n"
   ]
  },
  {
   "cell_type": "code",
   "execution_count": 1,
   "metadata": {},
   "outputs": [],
   "source": [
    "# print Target Names\n",
    "\n"
   ]
  },
  {
   "cell_type": "markdown",
   "metadata": {},
   "source": [
    "We can see  that there are 50  samples of each species"
   ]
  },
  {
   "cell_type": "code",
   "execution_count": null,
   "metadata": {},
   "outputs": [],
   "source": []
  },
  {
   "cell_type": "markdown",
   "metadata": {},
   "source": [
    "### Prepare Data\n",
    "We will only sepal length as feature and check if we can predict the flower species based on sepal length only .\n",
    "We will only predict two classes of flowers \n",
    "\n",
    "setosa : 0\n",
    "<br>versicolor: 1 "
   ]
  },
  {
   "cell_type": "code",
   "execution_count": 2,
   "metadata": {
    "collapsed": true
   },
   "outputs": [],
   "source": [
    "# select the rows with 0 and 1 target values\n",
    "\n",
    "\n",
    "#y is the target value and X is feature column\n"
   ]
  },
  {
   "cell_type": "markdown",
   "metadata": {},
   "source": [
    "### Split Data into  training and test set\n",
    "Split the data into training set and test set such that number of samples in training and test set are in 80:20 ratio. The model will be trained on training set and then evalauted on test set. We use stratified sampling so that the ratio of each class of flower is same in training and test set"
   ]
  },
  {
   "cell_type": "code",
   "execution_count": null,
   "metadata": {},
   "outputs": [],
   "source": []
  },
  {
   "cell_type": "markdown",
   "metadata": {},
   "source": [
    "### Plot Training Data\n",
    "Plot the sepal length and corresponding class of flower"
   ]
  },
  {
   "cell_type": "code",
   "execution_count": 9,
   "metadata": {
    "collapsed": true
   },
   "outputs": [],
   "source": [
    "def display_classes(X_train, y_train):\n",
    "    train_df = pd.DataFrame()\n",
    "    train_df[feature] = X_train.ravel()   \n",
    "    train_df['target'] = y_train.values\n",
    "    plt.figure(figsize = (10, 6))\n",
    "    ax = sns.scatterplot(x= feature, y= 'target', hue=\"target\", \n",
    "                         style ='target', palette=\"Set2\", data= train_df)\n",
    "    plt.show()\n",
    "\n"
   ]
  },
  {
   "cell_type": "code",
   "execution_count": null,
   "metadata": {},
   "outputs": [],
   "source": []
  },
  {
   "cell_type": "markdown",
   "metadata": {},
   "source": [
    "### Train the Model \n",
    "Train the Logistic Regression model using traning set data.\n",
    "\n",
    "The model documentaion can be accessed using link \n",
    "http://scikit-learn.org/stable/modules/generated/sklearn.linear_model.LogisticRegression.html"
   ]
  },
  {
   "cell_type": "code",
   "execution_count": null,
   "metadata": {},
   "outputs": [],
   "source": []
  },
  {
   "cell_type": "markdown",
   "metadata": {},
   "source": [
    "### Predict on Training set\n",
    "The prediction are probabilities for positive class"
   ]
  },
  {
   "cell_type": "code",
   "execution_count": null,
   "metadata": {},
   "outputs": [],
   "source": []
  },
  {
   "cell_type": "markdown",
   "metadata": {},
   "source": [
    "### Plot the featue vs probabilties for Training Data\n",
    "The blue line is probability threshold for classifying target as 0 or 1\n",
    "The data above blue line are predicted as class 1 and below the line are predicted as class 0. We can see that there are some points above blue lines(in green) which are predicted as 1 but actually belong to class 0 (False Negatives)"
   ]
  },
  {
   "cell_type": "code",
   "execution_count": 13,
   "metadata": {
    "collapsed": true
   },
   "outputs": [],
   "source": [
    "def display_prob(X, y, y_prob):\n",
    "    train_df = pd.DataFrame()\n",
    "    train_df[feature] = X.ravel()\n",
    "    train_df['pred'] = y_prob   \n",
    "    train_df['Actual Classes'] = y.values\n",
    "    plt.figure(figsize=(10,6))\n",
    "    ax = sns.scatterplot(x= train_df[feature], y =  y_prob, hue=\"Actual Classes\", \n",
    "                          palette=\"Set2\", data= train_df  )\n",
    "    plt.axhline(y = 0.5, color = 'b')\n",
    "    \n",
    "    plt.show()\n",
    "    \n"
   ]
  },
  {
   "cell_type": "code",
   "execution_count": null,
   "metadata": {},
   "outputs": [],
   "source": []
  },
  {
   "cell_type": "markdown",
   "metadata": {},
   "source": [
    "### Plot the featue vs probabilties for Test data\n",
    "Similarly for test data there are points in both classes 0 and 1 which are incorrectly predicted. Can you find those points?\n"
   ]
  },
  {
   "cell_type": "code",
   "execution_count": null,
   "metadata": {},
   "outputs": [],
   "source": []
  },
  {
   "cell_type": "markdown",
   "metadata": {},
   "source": [
    "### Predict Classes\n",
    "The predict_proba in previous section method ouputs probabilities. Lets predict classes instead of probalities and check.\n",
    "accuracy scores.\n",
    "Even though our training accuracy is 0.8 the test accuarcy is low.  We can set petal length as feature which would have given accuracy of 1 on both training and test set\n",
    "\n",
    "From the confusion  matrix for Test set\n",
    "<br>Number of correct Predictions = TN + TP = 6 + 8 = 14\n",
    "<br>False Positives = 4\n",
    "<br>False Negatives = 2 \n",
    "<br>Accuracy = TN + TP /(TP + TN + FP + FN) = 14/20 = 0.7"
   ]
  },
  {
   "cell_type": "code",
   "execution_count": null,
   "metadata": {},
   "outputs": [],
   "source": []
  }
 ],
 "metadata": {
  "kernelspec": {
   "display_name": "Python 3",
   "language": "python",
   "name": "python3"
  },
  "language_info": {
   "codemirror_mode": {
    "name": "ipython",
    "version": 3
   },
   "file_extension": ".py",
   "mimetype": "text/x-python",
   "name": "python",
   "nbconvert_exporter": "python",
   "pygments_lexer": "ipython3",
   "version": "3.6.2"
  }
 },
 "nbformat": 4,
 "nbformat_minor": 2
}
