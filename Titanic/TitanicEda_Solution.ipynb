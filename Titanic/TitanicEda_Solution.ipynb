{
 "cells": [
  {
   "cell_type": "markdown",
   "metadata": {
    "collapsed": true
   },
   "source": [
    "https://www.kaggle.com/c/titanic\n",
    "\n",
    "Competition Description\n",
    "\n",
    "The sinking of the RMS Titanic is one of the most infamous shipwrecks in history.  On April 15, 1912, during her maiden voyage, the Titanic sank after colliding with an iceberg, killing 1502 out of 2224 passengers and crew. This sensational tragedy shocked the international community and led to better safety regulations for ships.\n",
    "\n",
    "One of the reasons that the shipwreck led to such loss of life was that there were not enough lifeboats for the passengers and crew. Although there was some element of luck involved in surviving the sinking, some groups of people were more likely to survive than others, such as women, children, and the upper-class.\n",
    "\n",
    "In this challenge, we ask you to complete the analysis of what sorts of people were likely to survive. In particular, we ask you to apply the tools of machine learning to predict which passengers survived the tragedy.\n",
    "\n",
    "Practice Skills\n",
    "Binary classification\n",
    "Python and R basics"
   ]
  },
  {
   "cell_type": "markdown",
   "metadata": {},
   "source": [
    "Variable Notes\n",
    "\n",
    "survival:\tSurvival\t0 = No, 1 = Yes\n",
    "\n",
    "<br>pclass: Ticket class:A proxy for socio-economic status (SES)\n",
    "<br>1st = Upper\n",
    "<br>2nd = Middle\n",
    "<br>3rd = Lower\n",
    "\n",
    "age: Age is fractional if less than 1. If the age is estimated, is it in the form of xx.5\n",
    "\n",
    "sibsp: # of siblings / spouses aboard the Titanic\n",
    "<br>The dataset defines family relations in this way...\n",
    "<br>Sibling = brother, sister, stepbrother, stepsister\n",
    "<br>Spouse = husband, wife (mistresses and fiancés were ignored)\n",
    "\n",
    "<br>parch: # of parents / children aboard the Titanic\n",
    "<br>The dataset defines family relations in this way...\n",
    "<br>Parent = mother, father\n",
    "<br>Child = daughter, son, stepdaughter, stepson\n",
    "<br>Some children travelled only with a nanny, therefore parch=0 for them.\n",
    "\n",
    "embarked:port of Embarkation\tC = Cherbourg, Q = Queenstown, S = Southampton"
   ]
  },
  {
   "cell_type": "code",
   "execution_count": null,
   "metadata": {},
   "outputs": [],
   "source": [
    "import pandas as pd\n",
    "import numpy as np\n",
    "import seaborn as sns\n",
    "sns.set_style(\"whitegrid\")\n",
    "import matplotlib.pyplot as plt\n",
    "import time\n",
    "\n",
    "#setting for plot fonts \n",
    "SMALL_SIZE = 14\n",
    "MEDIUM_SIZE = 16\n",
    "BIGGER_SIZE = 18\n",
    "\n",
    "plt.rc('font', size=SMALL_SIZE)          # controls default text sizes\n",
    "plt.rc('axes', titlesize=SMALL_SIZE)     # fontsize of the axes title\n",
    "plt.rc('axes', labelsize=MEDIUM_SIZE)    # fontsize of the x and y labels\n",
    "plt.rc('xtick', labelsize=SMALL_SIZE)    # fontsize of the tick labels\n",
    "plt.rc('ytick', labelsize=SMALL_SIZE)    # fontsize of the tick labels\n",
    "plt.rc('legend', fontsize=SMALL_SIZE)    # legend fontsize\n",
    "plt.rc('figure', titlesize=BIGGER_SIZE)  # fontsize of the figure title\n",
    "\n",
    "#display notebook in full width\n",
    "from IPython.core.display import display, HTML\n",
    "display(HTML(\"<style>.container { width:100% !important; }</style>\"))\n",
    "\n",
    "pd.options.mode.chained_assignment = None  # default='warn'\n",
    "\n",
    "random_state = 42"
   ]
  },
  {
   "cell_type": "markdown",
   "metadata": {},
   "source": [
    "### Read Data"
   ]
  },
  {
   "cell_type": "code",
   "execution_count": null,
   "metadata": {},
   "outputs": [],
   "source": [
    "train = pd.read_csv('train.csv')\n",
    "test = pd.read_csv('test.csv')\n",
    "print('Train shape {} Test Shape{}'.format(train.shape, test.shape))\n",
    "train.head()"
   ]
  },
  {
   "cell_type": "markdown",
   "metadata": {},
   "source": [
    "### Missing Data\n",
    "Its important to find null values in data so that we can impute(replace) them as many ML alogorthms cant handle missing values.\n",
    "Column Cabin has 77% of misisng values \n"
   ]
  },
  {
   "cell_type": "code",
   "execution_count": null,
   "metadata": {
    "collapsed": true
   },
   "outputs": [],
   "source": [
    "def missing_data(data):\n",
    "    total = data.isnull().sum().sort_values(ascending = False)\n",
    "    percent= (data.isnull().sum() * 100 / data.isnull().count() ).sort_values(ascending = False)\n",
    "    df = pd.concat([total, percent], axis = 1, keys = ['Total', 'Percent'])\n",
    "    return df[df['Total'] != 0]\n",
    "\n"
   ]
  },
  {
   "cell_type": "code",
   "execution_count": null,
   "metadata": {},
   "outputs": [],
   "source": [
    "missing_data(train)"
   ]
  },
  {
   "cell_type": "markdown",
   "metadata": {},
   "source": [
    "### Prepare Numeric and  Categorical columns"
   ]
  },
  {
   "cell_type": "code",
   "execution_count": null,
   "metadata": {},
   "outputs": [],
   "source": [
    "all_cols = train.columns.tolist()\n",
    "print(all_cols)"
   ]
  },
  {
   "cell_type": "code",
   "execution_count": null,
   "metadata": {},
   "outputs": [],
   "source": [
    "num_cols = ['Pclass', 'Age', 'SibSp', 'Parch', 'Fare']\n",
    "cat_cols = [ 'Sex', 'Ticket', 'Cabin', 'Embarked']\n",
    "features = num_cols + cat_cols\n",
    "print(features)"
   ]
  },
  {
   "cell_type": "markdown",
   "metadata": {},
   "source": [
    "### Target value exploration\n",
    "Here target is column Survived which we need to predict in test data. We can see that around 62% of passenegers died while 38% of passengers survived. This also helps us to guage the performance of our model. A random model which allways predicts that all passengers died will be have accuracy of 62%. Our model needs to perform better than that to have any meaningful predictions. We will aim to achieve more than 80% accuracy which is a good relative performance"
   ]
  },
  {
   "cell_type": "code",
   "execution_count": null,
   "metadata": {
    "collapsed": true
   },
   "outputs": [],
   "source": [
    "def display_survival_data(df):\n",
    "    \n",
    "    sns.countplot(df.target_name)\n",
    "    plt.title('Titanic passenger survival')\n",
    "    plt.xlabel('Passenger Survived?', fontsize =  12)\n",
    "    plt.ylabel('Number of occurenecs', fontsize =  12)\n",
    "    plt.show()\n",
    "\n",
    "    total = df.Survived.count()\n",
    "    total_0 = df['Survived'][df.Survived == 0].count()\n",
    "    total_1 =  df['Survived'][df.Survived == 1].count()\n",
    "\n",
    "    class_0_perc = total_0/total\n",
    "    class_1_perc = 1 - class_0_perc\n",
    "    print('% passengers died: {:.3%}'.format(class_0_perc))\n",
    "    print('% passengers survived: {:.3%}'.format(class_1_perc))\n",
    "    \n"
   ]
  },
  {
   "cell_type": "code",
   "execution_count": null,
   "metadata": {},
   "outputs": [],
   "source": [
    "train['target_name'] = train['Survived'].map({0: 'died', 1: 'survived'})\n",
    "display_survival_data(train)"
   ]
  },
  {
   "cell_type": "markdown",
   "metadata": {},
   "source": [
    "### Correlation For Numeric variables\n",
    "Lets us check if there is correlation in numeric features \n",
    "\n",
    "We can see Pclass is negatively correlated with Fare meaning higher the class higher the fare. Note that here Pclass 1 is higher than Pclass 2 hence negative correlation"
   ]
  },
  {
   "cell_type": "code",
   "execution_count": null,
   "metadata": {
    "collapsed": true
   },
   "outputs": [],
   "source": [
    "\n",
    "def display_correlation(df):\n",
    "    cor_matrix = df.corr().round(2)\n",
    "    # Plotting heatmap     \n",
    "    fig = plt.figure(figsize=(6, 6));\n",
    "    plt.title('correlation matrix')\n",
    "    sns.heatmap(cor_matrix, annot=True, center=0, cmap = sns.diverging_palette(250, 10, as_cmap=True), ax=plt.subplot(111));\n",
    "    plt.show()\n",
    "    \n"
   ]
  },
  {
   "cell_type": "code",
   "execution_count": null,
   "metadata": {},
   "outputs": [],
   "source": [
    "display_correlation(train[num_cols])"
   ]
  },
  {
   "cell_type": "markdown",
   "metadata": {},
   "source": [
    "### Numeric features statistics\n",
    "<br>Median Age of passengers in 28\n",
    "<br>Maximum number of siblings or spouses(SibSp) travelling along a passengers is 8"
   ]
  },
  {
   "cell_type": "code",
   "execution_count": null,
   "metadata": {},
   "outputs": [],
   "source": [
    "train[num_cols].describe()"
   ]
  },
  {
   "cell_type": "markdown",
   "metadata": {},
   "source": [
    "### Cardinality of variables\n",
    "Lets check how many unique values all features have."
   ]
  },
  {
   "cell_type": "code",
   "execution_count": null,
   "metadata": {
    "collapsed": true
   },
   "outputs": [],
   "source": [
    "def print_cardinality(df, cols):\n",
    "    for col in cols:\n",
    "        dist_vals = df[col].value_counts().shape[0]\n",
    "        print('Column:{}, Number of distict Values:{}'.format(col, dist_vals))\n",
    "\n"
   ]
  },
  {
   "cell_type": "code",
   "execution_count": null,
   "metadata": {},
   "outputs": [],
   "source": [
    "print_cardinality(train, all_cols)"
   ]
  },
  {
   "cell_type": "markdown",
   "metadata": {},
   "source": [
    "## Plot  Discrete Features"
   ]
  },
  {
   "cell_type": "code",
   "execution_count": null,
   "metadata": {
    "collapsed": true
   },
   "outputs": [],
   "source": [
    "def plot_discrete_feature(df, col ):  \n",
    "   \n",
    "    fig, ax = plt.subplots(figsize =(24, 6))  \n",
    "   \n",
    "#   plot the count for each value\n",
    "    sns.countplot(x = col,  data = df, ax= plt.subplot(131))\n",
    "\n",
    "    #Plot survival  occurances for value\n",
    "    ax = sns.countplot(x = col, hue = 'target_name', data = df, ax = plt.subplot(132))\n",
    "    plt.xlabel(col, fontsize = 14)\n",
    "    plt.ylabel('Count', fontsize = 14)\n",
    "    # Title for whole figure\n",
    "    plt.suptitle('Plots for ' +col, fontsize = 18)\n",
    "\n",
    "    # Show percentages of pasengers survived\n",
    "    sns.pointplot(x = col, y= 'Survived', data = df, ax = plt.subplot(133))\n",
    "    # X-axis Label\n",
    "    plt.xlabel(col, fontsize=14);\n",
    "    # Y-axis Label\n",
    "    plt.ylabel('Survived %', fontsize=14);\n",
    "    plt.show()"
   ]
  },
  {
   "cell_type": "markdown",
   "metadata": {},
   "source": [
    "### plots for passengers class\n",
    "\n",
    "We can clearly see that pasengers belonging to higher class had better survival rate.\n",
    "Survival rate of passengers belonging to upper class(Pclass = 1) is around 62% while those in lower class(Pclass = 3)  had only 25% survival rate."
   ]
  },
  {
   "cell_type": "code",
   "execution_count": null,
   "metadata": {},
   "outputs": [],
   "source": [
    "plot_discrete_feature(train, 'Pclass')"
   ]
  },
  {
   "cell_type": "markdown",
   "metadata": {},
   "source": [
    "### plots for passengers sex\n",
    "72% of female passengers survived while only 19% of males survived, The article dicusses this observation along with the class based survival which we saw earlier\n",
    "https://www.washingtonpost.com/opinions/women-and-children-did-go-first-on-titanic/2012/04/19/gIQAgSaugT_story.html?noredirect=on&utm_term=.341673775648"
   ]
  },
  {
   "cell_type": "code",
   "execution_count": null,
   "metadata": {},
   "outputs": [],
   "source": [
    "plot_discrete_feature(train, 'Sex')"
   ]
  },
  {
   "cell_type": "markdown",
   "metadata": {},
   "source": [
    "### Plots for  Count of siblings / spouses\n",
    "Maximum passengers had no siblings or spouses.\n",
    "Passengers with 1 sibling or spouse had best survival rate  of 53%"
   ]
  },
  {
   "cell_type": "code",
   "execution_count": null,
   "metadata": {},
   "outputs": [],
   "source": [
    "plot_discrete_feature(train, 'SibSp')"
   ]
  },
  {
   "cell_type": "markdown",
   "metadata": {},
   "source": [
    "### Plots for Count of  parents/Children\n",
    "Maximum passengers were travelling without children or parents"
   ]
  },
  {
   "cell_type": "code",
   "execution_count": null,
   "metadata": {},
   "outputs": [],
   "source": [
    "plot_discrete_feature(train, 'Parch')"
   ]
  },
  {
   "cell_type": "markdown",
   "metadata": {},
   "source": [
    "#### Plots for port of Embarkation \n",
    "Maximum passengers embarked from Southampton and their survical rate was also lowest around 34%\n",
    "\n",
    "Passengers who embarked from Cherbourg had highest survival rate of 55%"
   ]
  },
  {
   "cell_type": "code",
   "execution_count": null,
   "metadata": {},
   "outputs": [],
   "source": [
    "plot_discrete_feature(train, 'Embarked')"
   ]
  },
  {
   "cell_type": "markdown",
   "metadata": {},
   "source": [
    "## Display Continous Features"
   ]
  },
  {
   "cell_type": "code",
   "execution_count": null,
   "metadata": {
    "collapsed": true
   },
   "outputs": [],
   "source": [
    "\n",
    "def display_continous_features(df, col):\n",
    "    df = df[[col, 'Survived', 'target_name']].copy()\n",
    "    df.dropna(subset=[col], inplace =True)\n",
    "\n",
    "    fig = plt.figure(figsize=(16, 10)) \n",
    "    #Display Density Plot\n",
    "    sns.distplot(df[col], color = 'b',  ax = plt.subplot(221)  )\n",
    "    plt.ylabel('Density')\n",
    "\n",
    "\n",
    "    #Display Density Plot for survived vs died\n",
    "    sns.distplot(df[df['Survived'] == 0][col], color = 'r', label = 'died', ax = plt.subplot(222)  )\n",
    "    sns.distplot(df[df['Survived'] == 1][col], color = 'b', label = 'survived', ax = plt.subplot(222))\n",
    "    plt.legend(loc = 'best')\n",
    "    plt.ylabel('Density survival vs died')\n",
    "\n",
    "#   Display Box Plot for feature\n",
    "    sns.boxplot(x = col , data = df, ax = plt.subplot(223))\n",
    "    \n",
    "#     Display Violin Plot for survived vs died\n",
    "    sns.violinplot(x = col , y = 'target_name', data = train, ax = plt.subplot(224))\n",
    "    plt.show()"
   ]
  },
  {
   "cell_type": "markdown",
   "metadata": {},
   "source": [
    "### Plots for Age\n",
    "Children under age 5 had better survival rate while those between 15 to 30 had worse survival rate\n",
    "\n",
    "The box plot interpretation can be checked at https://en.wikipedia.org/wiki/Interquartile_range#/media/File:Boxplot_vs_PDF.svg"
   ]
  },
  {
   "cell_type": "code",
   "execution_count": null,
   "metadata": {},
   "outputs": [],
   "source": [
    "display_continous_features(train, 'Age')"
   ]
  },
  {
   "cell_type": "markdown",
   "metadata": {},
   "source": [
    "### Plots for Fare\n",
    "There are some outiers for fares as shown by black spots on box plot.\n",
    "Passengers who paid higher fare were more liklely to survive.\n"
   ]
  },
  {
   "cell_type": "code",
   "execution_count": null,
   "metadata": {},
   "outputs": [],
   "source": [
    "display_continous_features(train, 'Fare')"
   ]
  },
  {
   "cell_type": "markdown",
   "metadata": {},
   "source": [
    "# Data Pre-Processing"
   ]
  },
  {
   "cell_type": "markdown",
   "metadata": {},
   "source": [
    "### Split Data into Training and Validation Sets"
   ]
  },
  {
   "cell_type": "code",
   "execution_count": null,
   "metadata": {},
   "outputs": [],
   "source": [
    "from sklearn.model_selection import train_test_split\n",
    "X  = train[features].copy()\n",
    "y  = train['Survived']\n",
    "X_test = test[features].copy()\n",
    "\n",
    "X_train, X_valid, y_train, y_valid  = train_test_split(X, y, test_size = 0.25, stratify = y, random_state = random_state)\n",
    "print('Training Shape {}, Validation shape {}, Test Shape {}'.format(X_train.shape, X_valid.shape, X_test.shape))"
   ]
  },
  {
   "cell_type": "markdown",
   "metadata": {},
   "source": [
    "### Impute Missing Values"
   ]
  },
  {
   "cell_type": "code",
   "execution_count": null,
   "metadata": {},
   "outputs": [],
   "source": [
    "missing_data(X_train)"
   ]
  },
  {
   "cell_type": "code",
   "execution_count": null,
   "metadata": {
    "collapsed": true
   },
   "outputs": [],
   "source": [
    "from sklearn.impute import  SimpleImputer\n",
    "\n",
    "#replace misisng values for Cabin by NA\n",
    "X_train['Cabin'].fillna('NA', inplace = True)\n",
    "X_valid['Cabin'].fillna('NA', inplace = True)\n",
    "X_test['Cabin'].fillna('NA', inplace = True)\n",
    "\n",
    "#Replace missing values for Embarked as mode\n",
    "imp_mode = SimpleImputer(strategy = 'most_frequent')\n",
    "X_train['Embarked'] = imp_mode.fit_transform(X_train['Embarked'].values.reshape(-1,1))\n",
    "X_valid['Embarked'] = imp_mode.transform(X_valid['Embarked'].values.reshape(-1,1))\n",
    "X_test['Embarked']  = imp_mode.transform(X_test['Embarked'].values.reshape(-1,1))\n",
    "\n",
    "#Replace missing values for Age by Median\n",
    "imp_median = SimpleImputer(strategy= 'median')\n",
    "X_train['Age'] = imp_median.fit_transform(X_train['Age'].values.reshape(-1,1))\n",
    "X_valid['Age'] = imp_median.fit_transform(X_valid['Age'].values.reshape(-1,1))\n",
    "X_test['Age']  = imp_median.fit_transform(X_test['Age'].values.reshape(-1,1))\n",
    "\n",
    "#Replace Fare in test set by 0\n",
    "X_test['Fare']  = imp_median.fit_transform(X_test['Fare'].values.reshape(-1,1))"
   ]
  },
  {
   "cell_type": "code",
   "execution_count": null,
   "metadata": {},
   "outputs": [],
   "source": [
    "missing_data(X_train)"
   ]
  },
  {
   "cell_type": "markdown",
   "metadata": {},
   "source": [
    "### One Hot Encode categorical features\n",
    "We will be using  library category_encoders for one hot encoding: http://contrib.scikit-learn.org/categorical-encoding/#. This page also have installation for the package using conda command\n",
    "\n",
    "If you have scikit-learn v0.20.0 its recommneded to use OneHotEncoder:http://scikit-learn.org/stable/modules/generated/sklearn.preprocessing.OneHotEncoder.html"
   ]
  },
  {
   "cell_type": "code",
   "execution_count": null,
   "metadata": {},
   "outputs": [],
   "source": [
    "X_train.head()"
   ]
  },
  {
   "cell_type": "code",
   "execution_count": null,
   "metadata": {
    "collapsed": true
   },
   "outputs": [],
   "source": [
    "import category_encoders as ce\n",
    "ohe = ce.OneHotEncoder(cols = cat_cols, drop_invariant= True, use_cat_names = True)\n",
    "X_train = ohe.fit_transform(X_train)\n",
    "X_valid = ohe.transform(X_valid)\n",
    "X_test = ohe.transform(X_test)"
   ]
  },
  {
   "cell_type": "code",
   "execution_count": null,
   "metadata": {},
   "outputs": [],
   "source": [
    "print('Training Shape {}, Validation shape {}, Test Shape {}'.format(X_train.shape, X_valid.shape, X_test.shape))\n",
    "X_train.head()"
   ]
  },
  {
   "cell_type": "markdown",
   "metadata": {},
   "source": [
    "### Normalize Numeric Data"
   ]
  },
  {
   "cell_type": "code",
   "execution_count": null,
   "metadata": {},
   "outputs": [],
   "source": [
    "from sklearn.preprocessing import StandardScaler\n",
    "\n",
    "sc = StandardScaler()\n",
    "X_train[num_cols] =  sc.fit_transform(X_train[num_cols])\n",
    "X_valid[num_cols] =  sc.transform(X_valid[num_cols])\n",
    "X_test[num_cols] =  sc.transform(X_test[num_cols])"
   ]
  },
  {
   "cell_type": "code",
   "execution_count": null,
   "metadata": {},
   "outputs": [],
   "source": [
    "X_train[num_cols].head()"
   ]
  },
  {
   "cell_type": "markdown",
   "metadata": {},
   "source": [
    "## Model Training Utilities"
   ]
  },
  {
   "cell_type": "code",
   "execution_count": null,
   "metadata": {
    "collapsed": true
   },
   "outputs": [],
   "source": [
    "from sklearn.metrics import accuracy_score\n",
    "def print_logs(model):\n",
    "    print('Validation Accuracy %0.5f' % accuracy_score(y_valid, y_pred_val))\n",
    "    print('Training Shape {}, Validation shape {}, Test Shape {}'.format(X_train.shape, X_valid.shape, X_test.shape))\n",
    "    print(model.get_params())\n",
    "\n",
    "def write_sub(y_pred, filename):    \n",
    "    sub = pd.DataFrame()\n",
    "    sub['PassengerId'] = test['PassengerId']\n",
    "    sub['Survived'] = y_pred\n",
    "    sub.to_csv(filename, index = False)"
   ]
  },
  {
   "cell_type": "markdown",
   "metadata": {},
   "source": [
    "## Random Forest"
   ]
  },
  {
   "cell_type": "markdown",
   "metadata": {},
   "source": [
    "### Random Forest Baseline"
   ]
  },
  {
   "cell_type": "code",
   "execution_count": null,
   "metadata": {},
   "outputs": [],
   "source": [
    "from sklearn.ensemble import RandomForestClassifier\n",
    "\n",
    "#Train Model\n",
    "model = RandomForestClassifier(random_state = random_state, n_estimators= 100)\n",
    "model.fit(X_train, y_train)\n",
    "y_pred = model.predict(X_train)\n",
    "print('Training Accuracy %0.5f' %accuracy_score(y_train, y_pred))\n",
    "\n",
    "#Predict on Validation set\n",
    "y_pred = model.predict(X_valid)\n",
    "print('Validation Accuracy %0.5f' % accuracy_score(y_valid, y_pred))\n",
    "\n"
   ]
  },
  {
   "cell_type": "markdown",
   "metadata": {},
   "source": [
    "#### Predict On Test Set and Write Submission File\n",
    "Go to https://www.kaggle.com/c/titanic and submit your predictions to check your accuracy score"
   ]
  },
  {
   "cell_type": "code",
   "execution_count": null,
   "metadata": {
    "collapsed": true
   },
   "outputs": [],
   "source": [
    "#predict on test set and write submissions to file\n",
    "y_pred = model.predict(X_test)\n",
    "write_sub(y_pred, 'rf_sub.csv')"
   ]
  }
 ],
 "metadata": {
  "kernelspec": {
   "display_name": "Python 3",
   "language": "python",
   "name": "python3"
  },
  "language_info": {
   "codemirror_mode": {
    "name": "ipython",
    "version": 3
   },
   "file_extension": ".py",
   "mimetype": "text/x-python",
   "name": "python",
   "nbconvert_exporter": "python",
   "pygments_lexer": "ipython3",
   "version": "3.6.2"
  }
 },
 "nbformat": 4,
 "nbformat_minor": 2
}
